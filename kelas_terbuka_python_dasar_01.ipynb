{
  "nbformat": 4,
  "nbformat_minor": 0,
  "metadata": {
    "colab": {
      "provenance": [],
      "authorship_tag": "ABX9TyMYRMBxU2nGuYhfYjGoxOey",
      "include_colab_link": true
    },
    "kernelspec": {
      "name": "python3",
      "display_name": "Python 3"
    },
    "language_info": {
      "name": "python"
    }
  },
  "cells": [
    {
      "cell_type": "markdown",
      "metadata": {
        "id": "view-in-github",
        "colab_type": "text"
      },
      "source": [
        "<a href=\"https://colab.research.google.com/github/danielhendra0046/kelas-terbuka-python-dasar/blob/main/kelas_terbuka_python_dasar_01.ipynb\" target=\"_parent\"><img src=\"https://colab.research.google.com/assets/colab-badge.svg\" alt=\"Open In Colab\"/></a>"
      ]
    },
    {
      "cell_type": "markdown",
      "source": [
        "# 30 OKTOBER 2023"
      ],
      "metadata": {
        "id": "EokSl5_DPn0_"
      }
    },
    {
      "cell_type": "markdown",
      "source": [
        "## Operasi List"
      ],
      "metadata": {
        "id": "9GTLVbm6PsKT"
      }
    },
    {
      "cell_type": "code",
      "execution_count": null,
      "metadata": {
        "colab": {
          "base_uri": "https://localhost:8080/"
        },
        "id": "A5h9_inaPkWw",
        "outputId": "a40c0843-ccc5-4f9c-f50a-8d7298b76c60"
      },
      "outputs": [
        {
          "output_type": "stream",
          "name": "stdout",
          "text": [
            "jumlah angka 4 = 2\n",
            "jumlah angka 3 = 2\n",
            "data angka setelah disort = \n",
            "[0, 1, 1, 2, 2, 2, 3, 3, 4, 4, 5, 6, 6, 8, 9]\n",
            "data angka setelah direverse = \n",
            "[9, 8, 6, 6, 5, 4, 4, 3, 3, 2, 2, 2, 1, 1, 0]\n"
          ]
        }
      ],
      "source": [
        "# count digunakan untuk menghitung jumlah data\n",
        "\n",
        "data_angka = [1,5,1,4,3,2,4,3,2,2,6,8,9,0,6]\n",
        "\n",
        "jumlah_data_4 = data_angka.count(4)\n",
        "jumlah_data_3 = data_angka.count(3)\n",
        "\n",
        "print(f\"jumlah angka 4 = {jumlah_data_4}\")\n",
        "print(f\"jumlah angka 3 = {jumlah_data_3}\")\n",
        "\n",
        "# cara mengurutkan angka, menggunakan .sort\n",
        "\n",
        "data_angka.sort()\n",
        "print(f\"data angka setelah disort = \\n{data_angka}\")\n",
        "\n",
        "# cara membalik urutan\n",
        "\n",
        "data_angka.reverse()\n",
        "print(f\"data angka setelah direverse = \\n{data_angka}\")"
      ]
    },
    {
      "cell_type": "markdown",
      "source": [
        "Lalu, ada lagi .index , digunakan untuk menghitung dia posisi data ke berapa di list"
      ],
      "metadata": {
        "id": "V0OG5-ZGSRuD"
      }
    },
    {
      "cell_type": "markdown",
      "source": [
        "Lalu, gimana caranya copy list?"
      ],
      "metadata": {
        "id": "tm4O44CmSX63"
      }
    },
    {
      "cell_type": "code",
      "source": [
        "data_angka = [1,5,1,4,3,2,4,3,2,2,6,8,9,0,6]\n",
        "\n",
        "data_angka_new = data_angka.copy()\n",
        "\n",
        "print(f\"ini adalah data angka: \\n{data_angka}\")\n",
        "print(f\"ini adalah data angka setelah dicopy: \\n{data_angka_new}\")\n",
        "\n",
        "data_angka_new[1] = 3\n",
        "\n",
        "print(f\"ini adalah data angka setelah diubah: \\n{data_angka_new}\")"
      ],
      "metadata": {
        "colab": {
          "base_uri": "https://localhost:8080/"
        },
        "id": "hMfwjOlMWIV6",
        "outputId": "19f855f3-d315-4adf-d23a-4debe6f7d1d6"
      },
      "execution_count": null,
      "outputs": [
        {
          "output_type": "stream",
          "name": "stdout",
          "text": [
            "ini adalah data angka: \n",
            "[1, 5, 1, 4, 3, 2, 4, 3, 2, 2, 6, 8, 9, 0, 6]\n",
            "ini adalah data angka setelah dicopy: \n",
            "[1, 5, 1, 4, 3, 2, 4, 3, 2, 2, 6, 8, 9, 0, 6]\n",
            "ini adalah data angka setelah diubah: \n",
            "[1, 3, 1, 4, 3, 2, 4, 3, 2, 2, 6, 8, 9, 0, 6]\n"
          ]
        }
      ]
    },
    {
      "cell_type": "markdown",
      "source": [
        "Nested List -> list di dalam list"
      ],
      "metadata": {
        "id": "0XUeMX6tXNZV"
      }
    },
    {
      "cell_type": "code",
      "source": [
        "data_0 = [1,2]\n",
        "data_1 = [3,4,5]\n",
        "\n",
        "list_2D = [data_0,data_1]\n",
        "\n",
        "print(f\"list 2D {list_2D}\")\n",
        "\n",
        "# contoh penggunaan\n",
        "\n",
        "peserta_0 = [\"Ucup\",25,\"Laki-laki\"]\n",
        "peserta_1 = [\"Otong\",10,\"Laki-laki\"]\n",
        "peserta_2 = [\"Dedeh\",50,\"Wanita\"]\n",
        "\n",
        "list_peserta = [peserta_0,peserta_1,peserta_2]\n",
        "\n",
        "print(f\"peserta = {list_peserta}\")\n",
        "\n",
        "for peserta in list_peserta:\n",
        "  print(f\"nama\\t: {peserta[0]}\")\n",
        "  print(f\"umur\\t: {peserta[1]}\")\n",
        "  print(f\"gender\\t: {peserta[2]}\\n\")"
      ],
      "metadata": {
        "colab": {
          "base_uri": "https://localhost:8080/"
        },
        "id": "AW6cQZ1aXO9K",
        "outputId": "6095ec14-07bc-42fb-810f-eea2cd529904"
      },
      "execution_count": null,
      "outputs": [
        {
          "output_type": "stream",
          "name": "stdout",
          "text": [
            "list 2D [[1, 2], [3, 4, 5]]\n",
            "peserta = [['Ucup', 25, 'Laki-laki'], ['Otong', 10, 'Laki-laki'], ['Dedeh', 50, 'Wanita']]\n",
            "nama\t: Ucup\n",
            "umur\t: 25\n",
            "gender\t: Laki-laki\n",
            "\n",
            "nama\t: Otong\n",
            "umur\t: 10\n",
            "gender\t: Laki-laki\n",
            "\n",
            "nama\t: Dedeh\n",
            "umur\t: 50\n",
            "gender\t: Wanita\n",
            "\n"
          ]
        }
      ]
    },
    {
      "cell_type": "markdown",
      "source": [
        "kalau kita mengcopy data nested list, kita tidak bisa memakai cara biasa. Harus pakai deepcopy"
      ],
      "metadata": {
        "id": "VaaaGPG8e8x0"
      }
    },
    {
      "cell_type": "code",
      "source": [
        "data_0 = [1,2]\n",
        "data_1 = [3,4]\n",
        "\n",
        "data_2D = [data_0,data_1]\n",
        "\n",
        "from copy import deepcopy\n",
        "\n",
        "data_2D_deepcopy = deepcopy(data_2D)\n",
        "\n",
        "print(f\"address asli = {hex(id(data_2D))}\")\n",
        "print(f\"address deep = {hex(id(data_2D_deepcopy))}\\n\")\n",
        "\n",
        "print(\"Address dari member ke-1\")\n",
        "print(f\"address asli = {hex(id(data_2D[0]))}\")\n",
        "print(f\"address deep = {hex(id(data_2D_deepcopy[0]))}\")"
      ],
      "metadata": {
        "colab": {
          "base_uri": "https://localhost:8080/"
        },
        "id": "PcTPzJuwe9ch",
        "outputId": "d438d7aa-93b4-435d-8248-f0346f102e43"
      },
      "execution_count": null,
      "outputs": [
        {
          "output_type": "stream",
          "name": "stdout",
          "text": [
            "address asli = 0x7bde07780a00\n",
            "address deep = 0x7bde0777c600\n",
            "\n",
            "Address dari member ke-1\n",
            "address asli = 0x7bde07783940\n",
            "address deep = 0x7bde0777c840\n"
          ]
        }
      ]
    },
    {
      "cell_type": "markdown",
      "source": [
        "## Looping List dan Enumerate"
      ],
      "metadata": {
        "id": "3NT9poXZkkeJ"
      }
    },
    {
      "cell_type": "markdown",
      "source": [],
      "metadata": {
        "id": "5L6XQp1Qkmwn"
      }
    },
    {
      "cell_type": "markdown",
      "source": [
        "# 31 OKTOBER 2023"
      ],
      "metadata": {
        "id": "Tcxo7bkiNYhq"
      }
    },
    {
      "cell_type": "markdown",
      "source": [
        "## Looping List dan Eunumerate"
      ],
      "metadata": {
        "id": "QWBrwN4YNaoy"
      }
    },
    {
      "cell_type": "markdown",
      "source": [
        "cara looping list"
      ],
      "metadata": {
        "id": "_3C_wnUqNfdY"
      }
    },
    {
      "cell_type": "code",
      "source": [
        "# looping list menggunakan for loop\n",
        "\n",
        "print(\"For Loop\")\n",
        "kumpulan_angka = [4,3,2,5,6,1]\n",
        "\n",
        "for angka in kumpulan_angka:\n",
        "  print(f\"angka = {angka}\")\n",
        "\n",
        "peserta = [\"Ucup\",\"Otong\",\"Dadang\",\"Diding\"]\n",
        "\n",
        "for nama in peserta:\n",
        "  print(f'nama = {nama}')\n",
        "\n",
        "# looping list menggunakan for loop dan range\n",
        "print(\"\\nFor Loop dan Range\")\n",
        "kumpulan_angka = [10,5,4,2,6,5]\n",
        "panjang = len(kumpulan_angka)\n",
        "\n",
        "for i in range(panjang):\n",
        "  print(f\"angka = {kumpulan_angka[i]}\")\n",
        "\n",
        "# looping list menggunakan while loop\n",
        "print(\"\\nWhile Loop\")\n",
        "kumpulan_angka = [10,5,4,2,6,5]\n",
        "\n",
        "panjang = len(kumpulan_angka)\n",
        "i = 0\n",
        "\n",
        "while i < panjang:\n",
        "  print(f\"angka = {kumpulan_angka[i]}\")\n",
        "  i += 1\n",
        "\n",
        "# looping list menggunakan list comprehension\n",
        "print(\"\\nList Comprehension\")\n",
        "\n",
        "data = [\"Ucup\",1,2,3,\"Otong\"]\n",
        "\n",
        "[print(f\"data = {i}\") for i in data]\n",
        "\n",
        "\n",
        "# looping list menggunakan list comprehension dikuadratkan\n",
        "print(\"\\nList Comprehension Dikuadratkan\")\n",
        "angka = [10,5,4,2,6,5]\n",
        "\n",
        "angka_kuadrat = [i**2 for i in angka]\n",
        "print(angka_kuadrat)\n",
        "\n",
        "[print(f\"data = {i**2}\") for i in angka]\n",
        "\n",
        "# looping list menggunakan enumerate\n",
        "print(\"\\nEnumerate\")\n",
        "data_list = [\"Ucup\",1,2,3,\"Otong\"]\n",
        "\n",
        "for index,data in enumerate(data_list):\n",
        "  print(f\"index = {index}, data = {data}\")"
      ],
      "metadata": {
        "colab": {
          "base_uri": "https://localhost:8080/"
        },
        "id": "sA7MYPRcP4Cu",
        "outputId": "da30fffe-05c6-4490-e29b-25a90b6ec655"
      },
      "execution_count": null,
      "outputs": [
        {
          "output_type": "stream",
          "name": "stdout",
          "text": [
            "For Loop\n",
            "angka = 4\n",
            "angka = 3\n",
            "angka = 2\n",
            "angka = 5\n",
            "angka = 6\n",
            "angka = 1\n",
            "nama = Ucup\n",
            "nama = Otong\n",
            "nama = Dadang\n",
            "nama = Diding\n",
            "\n",
            "For Loop dan Range\n",
            "angka = 10\n",
            "angka = 5\n",
            "angka = 4\n",
            "angka = 2\n",
            "angka = 6\n",
            "angka = 5\n",
            "\n",
            "While Loop\n",
            "angka = 10\n",
            "angka = 5\n",
            "angka = 4\n",
            "angka = 2\n",
            "angka = 6\n",
            "angka = 5\n",
            "\n",
            "List Comprehension\n",
            "data = Ucup\n",
            "data = 1\n",
            "data = 2\n",
            "data = 3\n",
            "data = Otong\n",
            "\n",
            "List Comprehension Dikuadratkan\n",
            "[100, 25, 16, 4, 36, 25]\n",
            "data = 100\n",
            "data = 25\n",
            "data = 16\n",
            "data = 4\n",
            "data = 36\n",
            "data = 25\n",
            "\n",
            "Enumerate\n",
            "index = 0, data = Ucup\n",
            "index = 1, data = 1\n",
            "index = 2, data = 2\n",
            "index = 3, data = 3\n",
            "index = 4, data = Otong\n"
          ]
        }
      ]
    },
    {
      "cell_type": "markdown",
      "source": [
        "## Latihan List"
      ],
      "metadata": {
        "id": "RRETJfSnacKz"
      }
    },
    {
      "cell_type": "code",
      "source": [
        "# Program list buku\n",
        "\n",
        "list_buku = []\n",
        "while True:\n",
        "  print(\"\\nMasukan data buku\")\n",
        "  judul = input(\"Judul buku\\t: \")\n",
        "  penulis = input(\"Nama penulis\\t \")\n",
        "\n",
        "  buku_baru = [judul,penulis]\n",
        "  list_buku.append(buku_baru)\n",
        "\n",
        "  print(\"\\n\\n\",\"=\"*10)\n",
        "  for index,buku in enumerate(list_buku):\n",
        "    print(f\"{index+1} | {buku[0]} | {buku[1]}\")\n",
        "\n",
        "  print(\"\\n\\n\",\"=\"*20)\n",
        "  isLanjut = input(\"Apakah dilanjutkan?(y/n)\")\n",
        "\n",
        "  if isLanjut == \"n\":\n",
        "    break\n",
        "\n",
        "print(\"Program Selesai\")"
      ],
      "metadata": {
        "colab": {
          "base_uri": "https://localhost:8080/"
        },
        "id": "tuc9Haq0aeH1",
        "outputId": "efddd457-3c5c-4e8b-bfc3-319e63bba6b6"
      },
      "execution_count": null,
      "outputs": [
        {
          "name": "stdout",
          "output_type": "stream",
          "text": [
            "\n",
            "Masukan data buku\n",
            "Judul buku\t: hihi\n",
            "Nama penulis\t haha\n",
            "\n",
            "\n",
            " ==========\n",
            "1 | hihi | haha\n",
            "\n",
            "\n",
            " ====================\n",
            "Apakah dilanjutkan?(y/n)y\n",
            "\n",
            "Masukan data buku\n",
            "Judul buku\t: haha\n",
            "Nama penulis\t hihi\n",
            "\n",
            "\n",
            " ==========\n",
            "1 | hihi | haha\n",
            "2 | haha | hihi\n",
            "\n",
            "\n",
            " ====================\n",
            "Apakah dilanjutkan?(y/n)x\n",
            "\n",
            "Masukan data buku\n",
            "Judul buku\t: hihi\n",
            "Nama penulis\t huhu\n",
            "\n",
            "\n",
            " ==========\n",
            "1 | hihi | haha\n",
            "2 | haha | hihi\n",
            "3 | hihi | huhu\n",
            "\n",
            "\n",
            " ====================\n",
            "Apakah dilanjutkan?(y/n)n\n"
          ]
        }
      ]
    },
    {
      "cell_type": "markdown",
      "source": [
        "## Tuples dan Set and Dictionary"
      ],
      "metadata": {
        "id": "AzLsD9hbef0m"
      }
    },
    {
      "cell_type": "markdown",
      "source": [
        "biasanya kan kita mencatat list menggunakan [],\n",
        "\n",
        "Tuples adalah list yang menggunakan tanda () -> tidak dapat ditambah atau dikurangi / dimodifikasi datanya\n",
        "\n",
        "Sets adalah list yang menggunakan tanda {} -> tidak memiliki index / sama dengan himpunan dalam ilmu matematika"
      ],
      "metadata": {
        "id": "PpuW_HMmfnBD"
      }
    },
    {
      "cell_type": "markdown",
      "source": [
        "Kalau dictionary bagaimana?"
      ],
      "metadata": {
        "id": "Ba4rf0pkgDNT"
      }
    },
    {
      "cell_type": "code",
      "source": [
        "# Contoh dictionary\n",
        "\n",
        "data_dict = {\n",
        "    'key' : 'value',\n",
        "    'cp' : 'ucup',\n",
        "    'tg' : 'otong',\n",
        "    'dg' : 'dudung'\n",
        "}\n",
        "\n",
        "print(data_dict['dg'])"
      ],
      "metadata": {
        "colab": {
          "base_uri": "https://localhost:8080/"
        },
        "id": "mkaAC_lChMfN",
        "outputId": "bdde2531-8f01-41ab-9aa6-faa13c4123f1"
      },
      "execution_count": null,
      "outputs": [
        {
          "output_type": "stream",
          "name": "stdout",
          "text": [
            "dudung\n"
          ]
        }
      ]
    },
    {
      "cell_type": "markdown",
      "source": [
        "Operator Dictionary"
      ],
      "metadata": {
        "id": "rIZ9Xjo7kopI"
      }
    },
    {
      "cell_type": "code",
      "source": [
        "data_dict = {\n",
        "    'cup' : 'ucup surucup',\n",
        "    'tong' : 'otong surotong',\n",
        "    'dung' : 'dudung surudung',\n",
        "}\n",
        "\n",
        "# Panjang dictionary\n",
        "LENDICT = len(data_dict)\n",
        "print(f\"panjang dictionary: {LENDICT}\")\n",
        "\n",
        "# Mengecek key exist atau tidak\n",
        "KEY = \"cup\"\n",
        "CHECKKEY = KEY in data_dict\n",
        "print(f\"apakah {KEY} ada di data_dict: {CHECKKEY}\")\n",
        "\n",
        "# Mengakses value dengan get\n",
        "print(\"\\nCARA MENGAKSES VALUE DENGAN GET\")\n",
        "print(data_dict[\"cup\"])\n",
        "print(data_dict.get(\"cup\"))\n",
        "print(data_dict.get(\"kis\",\"key tidak ditemukan\"))\n",
        "\n",
        "print(\"\\nCARA UPDATE DATA\")\n",
        "# mengupdate data\n",
        "data_dict[\"cup\"] = \"ucup si ganteng\"\n",
        "print(data_dict)\n",
        "data_dict[\"sep\"] = \"asep si kasyep\"\n",
        "print(data_dict)\n",
        "\n",
        "data_dict.update({\"cup\":\"ucup surucup\"})\n",
        "print(data_dict)\n",
        "data_dict.update({\"faqih\":\"faqihza si kweren\"})\n",
        "print(data_dict)\n",
        "\n",
        "# mendelete data pada dictionary\n",
        "print(\"\\nCARA DELETE DATA\")\n",
        "del data_dict[\"faqih\"]\n",
        "print(data_dict)"
      ],
      "metadata": {
        "colab": {
          "base_uri": "https://localhost:8080/"
        },
        "id": "HkMRmsBTkqVi",
        "outputId": "3fd52d25-2ceb-438e-ec0b-04aee5a1d753"
      },
      "execution_count": null,
      "outputs": [
        {
          "output_type": "stream",
          "name": "stdout",
          "text": [
            "panjang dictionary: 3\n",
            "apakah cup ada di data_dict: True\n",
            "\n",
            "CARA MENGAKSES VALUE DENGAN GET\n",
            "ucup surucup\n",
            "ucup surucup\n",
            "key tidak ditemukan\n",
            "\n",
            "CARA UPDATE DATA\n",
            "{'cup': 'ucup si ganteng', 'tong': 'otong surotong', 'dung': 'dudung surudung'}\n",
            "{'cup': 'ucup si ganteng', 'tong': 'otong surotong', 'dung': 'dudung surudung', 'sep': 'asep si kasyep'}\n",
            "{'cup': 'ucup surucup', 'tong': 'otong surotong', 'dung': 'dudung surudung', 'sep': 'asep si kasyep'}\n",
            "{'cup': 'ucup surucup', 'tong': 'otong surotong', 'dung': 'dudung surudung', 'sep': 'asep si kasyep', 'faqih': 'faqihza si kweren'}\n",
            "\n",
            "CARA DELETE DATA\n",
            "{'cup': 'ucup surucup', 'tong': 'otong surotong', 'dung': 'dudung surudung', 'sep': 'asep si kasyep'}\n"
          ]
        }
      ]
    },
    {
      "cell_type": "markdown",
      "source": [
        "Looping Dictionary -> intinya bagaimana cara mengambil key, value, dan items di dalam dictionary"
      ],
      "metadata": {
        "id": "r6bEGcI4w8oH"
      }
    },
    {
      "cell_type": "markdown",
      "source": [
        "cara mengcopy dictionary menggunakan .copy <br>\n",
        "cara mentransfer data dictionary menggunakan .pop , kalau .popitem itu mentransfer data yang paling terakhir"
      ],
      "metadata": {
        "id": "5Sortv9YyzcH"
      }
    },
    {
      "cell_type": "code",
      "source": [],
      "metadata": {
        "id": "k_ioFIPew8UQ"
      },
      "execution_count": null,
      "outputs": []
    },
    {
      "cell_type": "markdown",
      "source": [
        "## Latihan Dictionary"
      ],
      "metadata": {
        "id": "-jhXKl8v73Mu"
      }
    },
    {
      "cell_type": "markdown",
      "source": [],
      "metadata": {
        "id": "IRCnDg88761B"
      }
    },
    {
      "cell_type": "code",
      "source": [
        "import datetime\n",
        "import string\n",
        "import random\n",
        "\n",
        "mahasiswa_template = {\n",
        "    'nama':'nama',\n",
        "    'nim':'00000000',\n",
        "    'sks_lulus':0,\n",
        "    'lahir':datetime.datetime(1111,1,11)\n",
        "}\n",
        "\n",
        "data_mahasiswa = {}\n",
        "\n",
        "while True:\n",
        "  print(f\"{'SELAMAT DATANG':^20}\")\n",
        "  print(f\"{'DATA MAHASISWA':^20}\")\n",
        "  print(\"-\"*20)\n",
        "\n",
        "  mahasiswa = dict.fromkeys(mahasiswa_template.keys())\n",
        "  mahasiswa['nama'] = input(\"Nama Mahasiswa: \")\n",
        "  mahasiswa['nim'] = input(\"NIM Mahasiswa: \")\n",
        "  mahasiswa['sks_lulus'] = int(input(\"SKS Lulus Mahasiswa: \"))\n",
        "  TAHUN_LAHIR = int(input(\"Tahun lahir (YYYY): \"))\n",
        "  BULAN_LAHIR = int(input(\"Bulan lahir (1-12): \"))\n",
        "  TANGGAL_LAHIR = int(input(\"Tanggal lahir (1-31): \" ))\n",
        "  mahasiswa['lahir'] = datetime.datetime(TAHUN_LAHIR,BULAN_LAHIR,TANGGAL_LAHIR)\n",
        "\n",
        "  KEY = ''.join((random.choice(string.ascii_uppercase) for i in range(6)))\n",
        "  data_mahasiswa.update({KEY:mahasiswa})\n",
        "\n",
        "  print(f\"\\n{'KEY':<6} {'Nama':<17} {'NIM':<8} {'SKS Lulus':<10} {'Tanggal Lahir':<10}\")\n",
        "  print('-'*60)\n",
        "\n",
        "  for mahasiswa in data_mahasiswa:\n",
        "    KEY = mahasiswa\n",
        "\n",
        "    NAMA = data_mahasiswa[KEY]['nama']\n",
        "    NIM = data_mahasiswa[KEY]['nim']\n",
        "    SKS = data_mahasiswa[KEY]['sks_lulus']\n",
        "    LAHIR = data_mahasiswa[KEY]['lahir'].strftime(\"%x\")\n",
        "\n",
        "    print(f\"{KEY:<6} {NAMA:<17} {NIM:<8} {SKS:^10} {LAHIR:^10}\")\n",
        "\n",
        "  print(\"\\n\")\n",
        "  is_done = input(\"Sudah beres bro? (y/n) \")\n",
        "  if is_done == \"n\":\n",
        "    break\n",
        "\n",
        "print(\"\\nAkhir dari program, terima kasih\")"
      ],
      "metadata": {
        "colab": {
          "base_uri": "https://localhost:8080/"
        },
        "id": "P1dbJx9b8Au5",
        "outputId": "473f19e5-39b1-49e2-c68e-447acd8e26d2"
      },
      "execution_count": null,
      "outputs": [
        {
          "output_type": "stream",
          "name": "stdout",
          "text": [
            "   SELAMAT DATANG   \n",
            "   DATA MAHASISWA   \n",
            "--------------------\n",
            "Nama Mahasiswa: daniel\n",
            "NIM Mahasiswa: 101019\n",
            "SKS Lulus Mahasiswa: 144\n",
            "Tahun lahir (YYYY): 2000\n",
            "Bulan lahir (1-12): 08\n",
            "Tanggal lahir (1-31): 07\n",
            "\n",
            "KEY    Nama              NIM      SKS Lulus  Tanggal Lahir\n",
            "------------------------------------------------------------\n",
            "BZFAHA daniel            101019      144      08/07/00 \n",
            "\n",
            "\n",
            "Sudah beres bro? (y/n) n\n",
            "\n",
            "Akhir dari program, terima kasih\n"
          ]
        }
      ]
    },
    {
      "cell_type": "markdown",
      "source": [
        "## Fungsi"
      ],
      "metadata": {
        "id": "OYQIJxYRiKJ6"
      }
    },
    {
      "cell_type": "markdown",
      "source": [
        "Berguna untuk menyederhanakan codingan"
      ],
      "metadata": {
        "id": "tn1-sMFQiLza"
      }
    },
    {
      "cell_type": "code",
      "source": [
        "def hello_world(nama):\n",
        "  print(f\"Hallo {nama}\")\n",
        "\n",
        "hello_world(\"ucup\")\n",
        "\n",
        "# program tambah\n",
        "print('-'*10)\n",
        "\n",
        "def tambah(angka_1,angka_2):\n",
        "  hasil = angka_1 + angka_2\n",
        "  print(f\"{angka_1} + {angka_2} = {hasil}\")\n",
        "\n",
        "tambah(1,5)\n",
        "\n",
        "# ????\n",
        "print('-'*10)\n",
        "\n",
        "def say_hi(list_peserta):\n",
        "  data_peserta = list_peserta.copy()\n",
        "  for peserta in data_peserta:\n",
        "    print(f\"Yang terhormat {peserta}\")\n",
        "\n",
        "anggota_boyband = [\"Ucup\",\"Otong\",\"Dudung\"]\n",
        "\n",
        "say_hi(anggota_boyband)\n"
      ],
      "metadata": {
        "colab": {
          "base_uri": "https://localhost:8080/"
        },
        "id": "RSjgmX2EiOTU",
        "outputId": "83cb1bd8-716a-4c34-ee75-87b476c6c500"
      },
      "execution_count": null,
      "outputs": [
        {
          "output_type": "stream",
          "name": "stdout",
          "text": [
            "Hallo ucup\n",
            "----------\n",
            "1 + 5 = 6\n",
            "----------\n",
            "Yang terhormat Ucup\n",
            "Yang terhormat Otong\n",
            "Yang terhormat Dudung\n"
          ]
        }
      ]
    },
    {
      "cell_type": "markdown",
      "source": [
        "Fungsi Return"
      ],
      "metadata": {
        "id": "SjK9xFePlJwJ"
      }
    },
    {
      "cell_type": "code",
      "source": [
        "# Fungsi return biasa\n",
        "def kuadrat(input_angka):\n",
        "  output_kuadrat = input_angka**2\n",
        "  return output_kuadrat\n",
        "\n",
        "y = kuadrat(5)\n",
        "print(y)\n",
        "\n",
        "# Fungsi dengan return banyak\n",
        "print('-'*10)\n",
        "\n",
        "def operasi_matematika(angka_1,angka_2):\n",
        "  tambah = angka_1 + angka_2\n",
        "  kurang = angka_1 - angka_2\n",
        "  kali = angka_1 * angka_2\n",
        "  bagi = angka_1 / angka_2\n",
        "\n",
        "  return tambah,kurang,kali,bagi\n",
        "\n",
        "k,l,m,n = operasi_matematika(9,5)\n",
        "\n",
        "print(f\"Hasil tambah = {k}\")\n",
        "print(f\"Hasil kurang = {l}\")\n",
        "print(f\"Hasil kali = {m}\")\n",
        "print(f\"Hasil bagi = {n}\")"
      ],
      "metadata": {
        "id": "ndAReVBelKlR",
        "colab": {
          "base_uri": "https://localhost:8080/"
        },
        "outputId": "02804909-7e3e-4e0a-f760-88b842ea3b11"
      },
      "execution_count": null,
      "outputs": [
        {
          "output_type": "stream",
          "name": "stdout",
          "text": [
            "25\n",
            "----------\n",
            "Hasil tambah = 14\n",
            "Hasil kurang = 4\n",
            "Hasil kali = 45\n",
            "Hasil bagi = 1.8\n"
          ]
        }
      ]
    },
    {
      "cell_type": "markdown",
      "source": [
        "Default argument"
      ],
      "metadata": {
        "id": "o4vupnr-zgdG"
      }
    },
    {
      "cell_type": "code",
      "source": [
        "def say_hello(nama = \"Ganteng\"):\n",
        "  print(f\"Hallo {nama}\")\n",
        "\n",
        "say_hello(\"Ucup\")\n",
        "say_hello()\n",
        "\n",
        "# dengan banyak parameter\n",
        "print('-'*10)\n",
        "\n",
        "def sapa_dia(nama, pesan = \"Apa kabar?\"):\n",
        "  print(f\"hai {nama}, {pesan}\")\n",
        "\n",
        "sapa_dia(\"Dudung\",\"Hai Ganteeeng\")\n",
        "sapa_dia(\"Otong\")\n",
        "sapa_dia(nama=\"Ucup\")"
      ],
      "metadata": {
        "colab": {
          "base_uri": "https://localhost:8080/"
        },
        "id": "QkRMq5Ii0UoJ",
        "outputId": "600d53af-f695-434c-f0c1-e19f7e05e381"
      },
      "execution_count": null,
      "outputs": [
        {
          "output_type": "stream",
          "name": "stdout",
          "text": [
            "Hallo Ucup\n",
            "Hallo Ganteng\n",
            "----------\n",
            "hai Dudung, Hai Ganteeeng\n",
            "hai Otong, Apa kabar?\n",
            "hai Ucup, Apa kabar?\n"
          ]
        }
      ]
    },
    {
      "cell_type": "markdown",
      "source": [
        "## Latihan Fungsi"
      ],
      "metadata": {
        "id": "dJr_KXT8AqhX"
      }
    },
    {
      "cell_type": "code",
      "source": [
        "'''Latihan Fungsi'''\n",
        "\n",
        "import os\n",
        "\n",
        "# Program menghitung luas dan keliling persegi panjang\n",
        "\n",
        "# membuat header program\n",
        "\n",
        "def header():\n",
        "  '''Fungsi header'''\n",
        "  os.system(\"clear\")\n",
        "  print(f\"{'PROGRAM MENGHITUNG LUAS':^40}\")\n",
        "  print(f\"{'DAN KELILIG PERSEGI PANJANG':^40}\")\n",
        "  print(f\"{'-'*40:^40}\")\n",
        "\n",
        "def input_user():\n",
        "  '''fungsi input user'''\n",
        "  lebar = int(input(\"masukan nilai lebar: \"))\n",
        "  panjang = int(input(\"masukan nilai panjang: \"))\n",
        "\n",
        "  return lebar,panjang\n",
        "\n",
        "def hitung_luas(lebar,panjang):\n",
        "  '''fungsi luas'''\n",
        "  return lebar*panjang\n",
        "\n",
        "def hitung_keliling(lebar,panjang):\n",
        "  '''fungsi luas'''\n",
        "  return 2*(lebar+panjang)\n",
        "\n",
        "def display(message,value):\n",
        "  print(f\"hasil perhitungan {message} = {value}\")\n",
        "\n",
        "while True:\n",
        "  header()\n",
        "  LEBAR,PANJANG = input_user()\n",
        "  LUAS = hitung_luas(LEBAR,PANJANG)\n",
        "  KELILING = hitung_keliling(LEBAR,PANJANG)\n",
        "\n",
        "  display(\"luas\", LUAS)\n",
        "  display(\"keliling\", KELILING)\n",
        "\n",
        "  isContinue = input(\"apakah lanjut?(y/n)\")\n",
        "  if isContinue == \"n\":\n",
        "    break\n",
        "\n",
        "print(\"Program selesai, terima kasih!\")"
      ],
      "metadata": {
        "colab": {
          "base_uri": "https://localhost:8080/"
        },
        "id": "bk5iHayfAr8i",
        "outputId": "e523684e-d3ea-4042-8092-1f0163234deb"
      },
      "execution_count": null,
      "outputs": [
        {
          "output_type": "stream",
          "name": "stdout",
          "text": [
            "        PROGRAM MENGHITUNG LUAS         \n",
            "      DAN KELILIG PERSEGI PANJANG       \n",
            "----------------------------------------\n",
            "masukan nilai lebar: 20\n",
            "masukan nilai panjang: 30\n",
            "hasil perhitungan luas = 600\n",
            "hasil perhitungan keliling = 100\n",
            "apakah lanjut?(y/n)y\n",
            "        PROGRAM MENGHITUNG LUAS         \n",
            "      DAN KELILIG PERSEGI PANJANG       \n",
            "----------------------------------------\n",
            "masukan nilai lebar: 49\n",
            "masukan nilai panjang: 20\n",
            "hasil perhitungan luas = 980\n",
            "hasil perhitungan keliling = 138\n",
            "apakah lanjut?(y/n)n\n",
            "Program selesai, terima kasih!\n"
          ]
        }
      ]
    },
    {
      "cell_type": "markdown",
      "source": [
        "# 1 NOVEMBER 2023"
      ],
      "metadata": {
        "id": "vYjqhPxYivHU"
      }
    },
    {
      "cell_type": "markdown",
      "source": [
        "## Fungsi Lanjutan"
      ],
      "metadata": {
        "id": "e0GThyEniyP0"
      }
    },
    {
      "cell_type": "markdown",
      "source": [
        "Type hint cara penulisannya yaitu <br>\n",
        "def sepuluh_pangkat(apapun:int) <br>\n",
        "fungsinya agar dokumentasi kita rapi"
      ],
      "metadata": {
        "id": "3ynUWq3ui2FI"
      }
    },
    {
      "cell_type": "markdown",
      "source": [
        "Tentang *args"
      ],
      "metadata": {
        "id": "vTdssYp1mZGO"
      }
    },
    {
      "cell_type": "code",
      "source": [
        "def fungsi(*args): # bisa apapun, nggak harus args\n",
        "   nama = args[0]\n",
        "   tinggi = args[1]\n",
        "   berat = args[2]\n",
        "   print(f\"{nama} punya tinggi {tinggi} dan berat {berat}\")\n",
        "\n",
        "fungsi(\"dudung\",120,120)"
      ],
      "metadata": {
        "colab": {
          "base_uri": "https://localhost:8080/"
        },
        "id": "tAvZmVpEi5PB",
        "outputId": "f200cb94-c6ca-403d-aa34-043fa251120e"
      },
      "execution_count": 7,
      "outputs": [
        {
          "output_type": "stream",
          "name": "stdout",
          "text": [
            "dudung punya tinggi 120 dan berat 120\n"
          ]
        }
      ]
    },
    {
      "cell_type": "markdown",
      "source": [
        "Tentang **kwargs"
      ],
      "metadata": {
        "id": "q-ZZPyU5pEVI"
      }
    },
    {
      "cell_type": "code",
      "source": [
        "# contoh biasa\n",
        "\n",
        "def fungsi(**kwargs):\n",
        "  '''fungsi kwargs'''\n",
        "  print(kwargs[\"nama\"])\n",
        "\n",
        "fungsi(nama=\"ucup\",tinggi=183,berat=79)\n",
        "\n",
        "# contoh lain\n",
        "\n",
        "def fungsi(**kwargs):\n",
        "  '''fungsi kwargs'''\n",
        "  nama = kwargs[\"nama\"]\n",
        "  tinggi = kwargs[\"tinggi\"]\n",
        "  berat = kwargs[\"berat\"]\n",
        "  print(f\"{nama} punya tinggi {tinggi} dan berat {berat}\")\n",
        "\n",
        "fungsi(nama=\"ucup\",tinggi=183,berat=79)"
      ],
      "metadata": {
        "colab": {
          "base_uri": "https://localhost:8080/"
        },
        "id": "NO7li_42pG-7",
        "outputId": "4ffde5bb-eab0-4f44-edb0-a8bc0e0bdea1"
      },
      "execution_count": 9,
      "outputs": [
        {
          "output_type": "stream",
          "name": "stdout",
          "text": [
            "ucup\n",
            "ucup punya tinggi 183 dan berat 79\n"
          ]
        }
      ]
    }
  ]
}