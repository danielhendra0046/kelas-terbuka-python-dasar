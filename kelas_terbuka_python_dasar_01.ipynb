{
  "nbformat": 4,
  "nbformat_minor": 0,
  "metadata": {
    "colab": {
      "provenance": [],
      "authorship_tag": "ABX9TyPSYFrikOgtJrUfDycsRC+X",
      "include_colab_link": true
    },
    "kernelspec": {
      "name": "python3",
      "display_name": "Python 3"
    },
    "language_info": {
      "name": "python"
    }
  },
  "cells": [
    {
      "cell_type": "markdown",
      "metadata": {
        "id": "view-in-github",
        "colab_type": "text"
      },
      "source": [
        "<a href=\"https://colab.research.google.com/github/danielhendra0046/kelas-terbuka-python-dasar/blob/main/kelas_terbuka_python_dasar_01.ipynb\" target=\"_parent\"><img src=\"https://colab.research.google.com/assets/colab-badge.svg\" alt=\"Open In Colab\"/></a>"
      ]
    },
    {
      "cell_type": "markdown",
      "source": [
        "# 30 OKTOBER 2023"
      ],
      "metadata": {
        "id": "EokSl5_DPn0_"
      }
    },
    {
      "cell_type": "markdown",
      "source": [
        "## Operasi List"
      ],
      "metadata": {
        "id": "9GTLVbm6PsKT"
      }
    },
    {
      "cell_type": "code",
      "execution_count": 4,
      "metadata": {
        "colab": {
          "base_uri": "https://localhost:8080/"
        },
        "id": "A5h9_inaPkWw",
        "outputId": "a40c0843-ccc5-4f9c-f50a-8d7298b76c60"
      },
      "outputs": [
        {
          "output_type": "stream",
          "name": "stdout",
          "text": [
            "jumlah angka 4 = 2\n",
            "jumlah angka 3 = 2\n",
            "data angka setelah disort = \n",
            "[0, 1, 1, 2, 2, 2, 3, 3, 4, 4, 5, 6, 6, 8, 9]\n",
            "data angka setelah direverse = \n",
            "[9, 8, 6, 6, 5, 4, 4, 3, 3, 2, 2, 2, 1, 1, 0]\n"
          ]
        }
      ],
      "source": [
        "# count digunakan untuk menghitung jumlah data\n",
        "\n",
        "data_angka = [1,5,1,4,3,2,4,3,2,2,6,8,9,0,6]\n",
        "\n",
        "jumlah_data_4 = data_angka.count(4)\n",
        "jumlah_data_3 = data_angka.count(3)\n",
        "\n",
        "print(f\"jumlah angka 4 = {jumlah_data_4}\")\n",
        "print(f\"jumlah angka 3 = {jumlah_data_3}\")\n",
        "\n",
        "# cara mengurutkan angka, menggunakan .sort\n",
        "\n",
        "data_angka.sort()\n",
        "print(f\"data angka setelah disort = \\n{data_angka}\")\n",
        "\n",
        "# cara membalik urutan\n",
        "\n",
        "data_angka.reverse()\n",
        "print(f\"data angka setelah direverse = \\n{data_angka}\")"
      ]
    },
    {
      "cell_type": "markdown",
      "source": [
        "Lalu, ada lagi .index , digunakan untuk menghitung dia posisi data ke berapa di list"
      ],
      "metadata": {
        "id": "V0OG5-ZGSRuD"
      }
    },
    {
      "cell_type": "markdown",
      "source": [
        "Lalu, gimana caranya copy list?"
      ],
      "metadata": {
        "id": "tm4O44CmSX63"
      }
    },
    {
      "cell_type": "code",
      "source": [
        "data_angka = [1,5,1,4,3,2,4,3,2,2,6,8,9,0,6]\n",
        "\n",
        "data_angka_new = data_angka.copy()\n",
        "\n",
        "print(f\"ini adalah data angka: \\n{data_angka}\")\n",
        "print(f\"ini adalah data angka setelah dicopy: \\n{data_angka_new}\")\n",
        "\n",
        "data_angka_new[1] = 3\n",
        "\n",
        "print(f\"ini adalah data angka setelah diubah: \\n{data_angka_new}\")"
      ],
      "metadata": {
        "colab": {
          "base_uri": "https://localhost:8080/"
        },
        "id": "hMfwjOlMWIV6",
        "outputId": "19f855f3-d315-4adf-d23a-4debe6f7d1d6"
      },
      "execution_count": 7,
      "outputs": [
        {
          "output_type": "stream",
          "name": "stdout",
          "text": [
            "ini adalah data angka: \n",
            "[1, 5, 1, 4, 3, 2, 4, 3, 2, 2, 6, 8, 9, 0, 6]\n",
            "ini adalah data angka setelah dicopy: \n",
            "[1, 5, 1, 4, 3, 2, 4, 3, 2, 2, 6, 8, 9, 0, 6]\n",
            "ini adalah data angka setelah diubah: \n",
            "[1, 3, 1, 4, 3, 2, 4, 3, 2, 2, 6, 8, 9, 0, 6]\n"
          ]
        }
      ]
    },
    {
      "cell_type": "markdown",
      "source": [
        "Nested List -> list di dalam list"
      ],
      "metadata": {
        "id": "0XUeMX6tXNZV"
      }
    },
    {
      "cell_type": "code",
      "source": [
        "data_0 = [1,2]\n",
        "data_1 = [3,4,5]\n",
        "\n",
        "list_2D = [data_0,data_1]\n",
        "\n",
        "print(f\"list 2D {list_2D}\")\n",
        "\n",
        "# contoh penggunaan\n",
        "\n",
        "peserta_0 = [\"Ucup\",25,\"Laki-laki\"]\n",
        "peserta_1 = [\"Otong\",10,\"Laki-laki\"]\n",
        "peserta_2 = [\"Dedeh\",50,\"Wanita\"]\n",
        "\n",
        "list_peserta = [peserta_0,peserta_1,peserta_2]\n",
        "\n",
        "print(f\"peserta = {list_peserta}\")\n",
        "\n",
        "for peserta in list_peserta:\n",
        "  print(f\"nama\\t: {peserta[0]}\")\n",
        "  print(f\"umur\\t: {peserta[1]}\")\n",
        "  print(f\"gender\\t: {peserta[2]}\\n\")"
      ],
      "metadata": {
        "colab": {
          "base_uri": "https://localhost:8080/"
        },
        "id": "AW6cQZ1aXO9K",
        "outputId": "6095ec14-07bc-42fb-810f-eea2cd529904"
      },
      "execution_count": 12,
      "outputs": [
        {
          "output_type": "stream",
          "name": "stdout",
          "text": [
            "list 2D [[1, 2], [3, 4, 5]]\n",
            "peserta = [['Ucup', 25, 'Laki-laki'], ['Otong', 10, 'Laki-laki'], ['Dedeh', 50, 'Wanita']]\n",
            "nama\t: Ucup\n",
            "umur\t: 25\n",
            "gender\t: Laki-laki\n",
            "\n",
            "nama\t: Otong\n",
            "umur\t: 10\n",
            "gender\t: Laki-laki\n",
            "\n",
            "nama\t: Dedeh\n",
            "umur\t: 50\n",
            "gender\t: Wanita\n",
            "\n"
          ]
        }
      ]
    },
    {
      "cell_type": "markdown",
      "source": [
        "kalau kita mengcopy data nested list, kita tidak bisa memakai cara biasa. Harus pakai deepcopy"
      ],
      "metadata": {
        "id": "VaaaGPG8e8x0"
      }
    },
    {
      "cell_type": "code",
      "source": [
        "data_0 = [1,2]\n",
        "data_1 = [3,4]\n",
        "\n",
        "data_2D = [data_0,data_1]\n",
        "\n",
        "from copy import deepcopy\n",
        "\n",
        "data_2D_deepcopy = deepcopy(data_2D)\n",
        "\n",
        "print(f\"address asli = {hex(id(data_2D))}\")\n",
        "print(f\"address deep = {hex(id(data_2D_deepcopy))}\\n\")\n",
        "\n",
        "print(\"Address dari member ke-1\")\n",
        "print(f\"address asli = {hex(id(data_2D[0]))}\")\n",
        "print(f\"address deep = {hex(id(data_2D_deepcopy[0]))}\")"
      ],
      "metadata": {
        "colab": {
          "base_uri": "https://localhost:8080/"
        },
        "id": "PcTPzJuwe9ch",
        "outputId": "d438d7aa-93b4-435d-8248-f0346f102e43"
      },
      "execution_count": 16,
      "outputs": [
        {
          "output_type": "stream",
          "name": "stdout",
          "text": [
            "address asli = 0x7bde07780a00\n",
            "address deep = 0x7bde0777c600\n",
            "\n",
            "Address dari member ke-1\n",
            "address asli = 0x7bde07783940\n",
            "address deep = 0x7bde0777c840\n"
          ]
        }
      ]
    },
    {
      "cell_type": "markdown",
      "source": [
        "## Looping List dan Enumerate"
      ],
      "metadata": {
        "id": "3NT9poXZkkeJ"
      }
    },
    {
      "cell_type": "markdown",
      "source": [],
      "metadata": {
        "id": "5L6XQp1Qkmwn"
      }
    }
  ]
}