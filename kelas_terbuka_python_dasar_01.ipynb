{
  "nbformat": 4,
  "nbformat_minor": 0,
  "metadata": {
    "colab": {
      "provenance": [],
      "authorship_tag": "ABX9TyNOULbCBuEmJUvNbHTwRqiW",
      "include_colab_link": true
    },
    "kernelspec": {
      "name": "python3",
      "display_name": "Python 3"
    },
    "language_info": {
      "name": "python"
    }
  },
  "cells": [
    {
      "cell_type": "markdown",
      "metadata": {
        "id": "view-in-github",
        "colab_type": "text"
      },
      "source": [
        "<a href=\"https://colab.research.google.com/github/danielhendra0046/kelas-terbuka-python-dasar/blob/main/kelas_terbuka_python_dasar_01.ipynb\" target=\"_parent\"><img src=\"https://colab.research.google.com/assets/colab-badge.svg\" alt=\"Open In Colab\"/></a>"
      ]
    },
    {
      "cell_type": "markdown",
      "source": [
        "# 30 OKTOBER 2023"
      ],
      "metadata": {
        "id": "EokSl5_DPn0_"
      }
    },
    {
      "cell_type": "markdown",
      "source": [
        "## Operasi List"
      ],
      "metadata": {
        "id": "9GTLVbm6PsKT"
      }
    },
    {
      "cell_type": "code",
      "execution_count": null,
      "metadata": {
        "colab": {
          "base_uri": "https://localhost:8080/"
        },
        "id": "A5h9_inaPkWw",
        "outputId": "a40c0843-ccc5-4f9c-f50a-8d7298b76c60"
      },
      "outputs": [
        {
          "output_type": "stream",
          "name": "stdout",
          "text": [
            "jumlah angka 4 = 2\n",
            "jumlah angka 3 = 2\n",
            "data angka setelah disort = \n",
            "[0, 1, 1, 2, 2, 2, 3, 3, 4, 4, 5, 6, 6, 8, 9]\n",
            "data angka setelah direverse = \n",
            "[9, 8, 6, 6, 5, 4, 4, 3, 3, 2, 2, 2, 1, 1, 0]\n"
          ]
        }
      ],
      "source": [
        "# count digunakan untuk menghitung jumlah data\n",
        "\n",
        "data_angka = [1,5,1,4,3,2,4,3,2,2,6,8,9,0,6]\n",
        "\n",
        "jumlah_data_4 = data_angka.count(4)\n",
        "jumlah_data_3 = data_angka.count(3)\n",
        "\n",
        "print(f\"jumlah angka 4 = {jumlah_data_4}\")\n",
        "print(f\"jumlah angka 3 = {jumlah_data_3}\")\n",
        "\n",
        "# cara mengurutkan angka, menggunakan .sort\n",
        "\n",
        "data_angka.sort()\n",
        "print(f\"data angka setelah disort = \\n{data_angka}\")\n",
        "\n",
        "# cara membalik urutan\n",
        "\n",
        "data_angka.reverse()\n",
        "print(f\"data angka setelah direverse = \\n{data_angka}\")"
      ]
    },
    {
      "cell_type": "markdown",
      "source": [
        "Lalu, ada lagi .index , digunakan untuk menghitung dia posisi data ke berapa di list"
      ],
      "metadata": {
        "id": "V0OG5-ZGSRuD"
      }
    },
    {
      "cell_type": "markdown",
      "source": [
        "Lalu, gimana caranya copy list?"
      ],
      "metadata": {
        "id": "tm4O44CmSX63"
      }
    },
    {
      "cell_type": "code",
      "source": [
        "data_angka = [1,5,1,4,3,2,4,3,2,2,6,8,9,0,6]\n",
        "\n",
        "data_angka_new = data_angka.copy()\n",
        "\n",
        "print(f\"ini adalah data angka: \\n{data_angka}\")\n",
        "print(f\"ini adalah data angka setelah dicopy: \\n{data_angka_new}\")\n",
        "\n",
        "data_angka_new[1] = 3\n",
        "\n",
        "print(f\"ini adalah data angka setelah diubah: \\n{data_angka_new}\")"
      ],
      "metadata": {
        "colab": {
          "base_uri": "https://localhost:8080/"
        },
        "id": "hMfwjOlMWIV6",
        "outputId": "19f855f3-d315-4adf-d23a-4debe6f7d1d6"
      },
      "execution_count": null,
      "outputs": [
        {
          "output_type": "stream",
          "name": "stdout",
          "text": [
            "ini adalah data angka: \n",
            "[1, 5, 1, 4, 3, 2, 4, 3, 2, 2, 6, 8, 9, 0, 6]\n",
            "ini adalah data angka setelah dicopy: \n",
            "[1, 5, 1, 4, 3, 2, 4, 3, 2, 2, 6, 8, 9, 0, 6]\n",
            "ini adalah data angka setelah diubah: \n",
            "[1, 3, 1, 4, 3, 2, 4, 3, 2, 2, 6, 8, 9, 0, 6]\n"
          ]
        }
      ]
    },
    {
      "cell_type": "markdown",
      "source": [
        "Nested List -> list di dalam list"
      ],
      "metadata": {
        "id": "0XUeMX6tXNZV"
      }
    },
    {
      "cell_type": "code",
      "source": [
        "data_0 = [1,2]\n",
        "data_1 = [3,4,5]\n",
        "\n",
        "list_2D = [data_0,data_1]\n",
        "\n",
        "print(f\"list 2D {list_2D}\")\n",
        "\n",
        "# contoh penggunaan\n",
        "\n",
        "peserta_0 = [\"Ucup\",25,\"Laki-laki\"]\n",
        "peserta_1 = [\"Otong\",10,\"Laki-laki\"]\n",
        "peserta_2 = [\"Dedeh\",50,\"Wanita\"]\n",
        "\n",
        "list_peserta = [peserta_0,peserta_1,peserta_2]\n",
        "\n",
        "print(f\"peserta = {list_peserta}\")\n",
        "\n",
        "for peserta in list_peserta:\n",
        "  print(f\"nama\\t: {peserta[0]}\")\n",
        "  print(f\"umur\\t: {peserta[1]}\")\n",
        "  print(f\"gender\\t: {peserta[2]}\\n\")"
      ],
      "metadata": {
        "colab": {
          "base_uri": "https://localhost:8080/"
        },
        "id": "AW6cQZ1aXO9K",
        "outputId": "6095ec14-07bc-42fb-810f-eea2cd529904"
      },
      "execution_count": null,
      "outputs": [
        {
          "output_type": "stream",
          "name": "stdout",
          "text": [
            "list 2D [[1, 2], [3, 4, 5]]\n",
            "peserta = [['Ucup', 25, 'Laki-laki'], ['Otong', 10, 'Laki-laki'], ['Dedeh', 50, 'Wanita']]\n",
            "nama\t: Ucup\n",
            "umur\t: 25\n",
            "gender\t: Laki-laki\n",
            "\n",
            "nama\t: Otong\n",
            "umur\t: 10\n",
            "gender\t: Laki-laki\n",
            "\n",
            "nama\t: Dedeh\n",
            "umur\t: 50\n",
            "gender\t: Wanita\n",
            "\n"
          ]
        }
      ]
    },
    {
      "cell_type": "markdown",
      "source": [
        "kalau kita mengcopy data nested list, kita tidak bisa memakai cara biasa. Harus pakai deepcopy"
      ],
      "metadata": {
        "id": "VaaaGPG8e8x0"
      }
    },
    {
      "cell_type": "code",
      "source": [
        "data_0 = [1,2]\n",
        "data_1 = [3,4]\n",
        "\n",
        "data_2D = [data_0,data_1]\n",
        "\n",
        "from copy import deepcopy\n",
        "\n",
        "data_2D_deepcopy = deepcopy(data_2D)\n",
        "\n",
        "print(f\"address asli = {hex(id(data_2D))}\")\n",
        "print(f\"address deep = {hex(id(data_2D_deepcopy))}\\n\")\n",
        "\n",
        "print(\"Address dari member ke-1\")\n",
        "print(f\"address asli = {hex(id(data_2D[0]))}\")\n",
        "print(f\"address deep = {hex(id(data_2D_deepcopy[0]))}\")"
      ],
      "metadata": {
        "colab": {
          "base_uri": "https://localhost:8080/"
        },
        "id": "PcTPzJuwe9ch",
        "outputId": "d438d7aa-93b4-435d-8248-f0346f102e43"
      },
      "execution_count": null,
      "outputs": [
        {
          "output_type": "stream",
          "name": "stdout",
          "text": [
            "address asli = 0x7bde07780a00\n",
            "address deep = 0x7bde0777c600\n",
            "\n",
            "Address dari member ke-1\n",
            "address asli = 0x7bde07783940\n",
            "address deep = 0x7bde0777c840\n"
          ]
        }
      ]
    },
    {
      "cell_type": "markdown",
      "source": [
        "## Looping List dan Enumerate"
      ],
      "metadata": {
        "id": "3NT9poXZkkeJ"
      }
    },
    {
      "cell_type": "markdown",
      "source": [],
      "metadata": {
        "id": "5L6XQp1Qkmwn"
      }
    },
    {
      "cell_type": "markdown",
      "source": [
        "# 31 OKTOBER 2023"
      ],
      "metadata": {
        "id": "Tcxo7bkiNYhq"
      }
    },
    {
      "cell_type": "markdown",
      "source": [
        "## Looping List dan Eunumerate"
      ],
      "metadata": {
        "id": "QWBrwN4YNaoy"
      }
    },
    {
      "cell_type": "markdown",
      "source": [
        "cara looping list"
      ],
      "metadata": {
        "id": "_3C_wnUqNfdY"
      }
    },
    {
      "cell_type": "code",
      "source": [
        "# looping list menggunakan for loop\n",
        "\n",
        "print(\"For Loop\")\n",
        "kumpulan_angka = [4,3,2,5,6,1]\n",
        "\n",
        "for angka in kumpulan_angka:\n",
        "  print(f\"angka = {angka}\")\n",
        "\n",
        "peserta = [\"Ucup\",\"Otong\",\"Dadang\",\"Diding\"]\n",
        "\n",
        "for nama in peserta:\n",
        "  print(f'nama = {nama}')\n",
        "\n",
        "# looping list menggunakan for loop dan range\n",
        "print(\"\\nFor Loop dan Range\")\n",
        "kumpulan_angka = [10,5,4,2,6,5]\n",
        "panjang = len(kumpulan_angka)\n",
        "\n",
        "for i in range(panjang):\n",
        "  print(f\"angka = {kumpulan_angka[i]}\")\n",
        "\n",
        "# looping list menggunakan while loop\n",
        "print(\"\\nWhile Loop\")\n",
        "kumpulan_angka = [10,5,4,2,6,5]\n",
        "\n",
        "panjang = len(kumpulan_angka)\n",
        "i = 0\n",
        "\n",
        "while i < panjang:\n",
        "  print(f\"angka = {kumpulan_angka[i]}\")\n",
        "  i += 1\n",
        "\n",
        "# looping list menggunakan list comprehension\n",
        "print(\"\\nList Comprehension\")\n",
        "\n",
        "data = [\"Ucup\",1,2,3,\"Otong\"]\n",
        "\n",
        "[print(f\"data = {i}\") for i in data]\n",
        "\n",
        "\n",
        "# looping list menggunakan list comprehension dikuadratkan\n",
        "print(\"\\nList Comprehension Dikuadratkan\")\n",
        "angka = [10,5,4,2,6,5]\n",
        "\n",
        "angka_kuadrat = [i**2 for i in angka]\n",
        "print(angka_kuadrat)\n",
        "\n",
        "[print(f\"data = {i**2}\") for i in angka]\n",
        "\n",
        "# looping list menggunakan enumerate\n",
        "print(\"\\nEnumerate\")\n",
        "data_list = [\"Ucup\",1,2,3,\"Otong\"]\n",
        "\n",
        "for index,data in enumerate(data_list):\n",
        "  print(f\"index = {index}, data = {data}\")"
      ],
      "metadata": {
        "colab": {
          "base_uri": "https://localhost:8080/"
        },
        "id": "sA7MYPRcP4Cu",
        "outputId": "da30fffe-05c6-4490-e29b-25a90b6ec655"
      },
      "execution_count": 21,
      "outputs": [
        {
          "output_type": "stream",
          "name": "stdout",
          "text": [
            "For Loop\n",
            "angka = 4\n",
            "angka = 3\n",
            "angka = 2\n",
            "angka = 5\n",
            "angka = 6\n",
            "angka = 1\n",
            "nama = Ucup\n",
            "nama = Otong\n",
            "nama = Dadang\n",
            "nama = Diding\n",
            "\n",
            "For Loop dan Range\n",
            "angka = 10\n",
            "angka = 5\n",
            "angka = 4\n",
            "angka = 2\n",
            "angka = 6\n",
            "angka = 5\n",
            "\n",
            "While Loop\n",
            "angka = 10\n",
            "angka = 5\n",
            "angka = 4\n",
            "angka = 2\n",
            "angka = 6\n",
            "angka = 5\n",
            "\n",
            "List Comprehension\n",
            "data = Ucup\n",
            "data = 1\n",
            "data = 2\n",
            "data = 3\n",
            "data = Otong\n",
            "\n",
            "List Comprehension Dikuadratkan\n",
            "[100, 25, 16, 4, 36, 25]\n",
            "data = 100\n",
            "data = 25\n",
            "data = 16\n",
            "data = 4\n",
            "data = 36\n",
            "data = 25\n",
            "\n",
            "Enumerate\n",
            "index = 0, data = Ucup\n",
            "index = 1, data = 1\n",
            "index = 2, data = 2\n",
            "index = 3, data = 3\n",
            "index = 4, data = Otong\n"
          ]
        }
      ]
    },
    {
      "cell_type": "markdown",
      "source": [
        "## Latihan List"
      ],
      "metadata": {
        "id": "RRETJfSnacKz"
      }
    },
    {
      "cell_type": "code",
      "source": [
        "# Program list buku\n",
        "\n",
        "list_buku = []\n",
        "while True:\n",
        "  print(\"\\nMasukan data buku\")\n",
        "  judul = input(\"Judul buku\\t: \")\n",
        "  penulis = input(\"Nama penulis\\t \")\n",
        "\n",
        "  buku_baru = [judul,penulis]\n",
        "  list_buku.append(buku_baru)\n",
        "\n",
        "  print(\"\\n\\n\",\"=\"*10)\n",
        "  for index,buku in enumerate(list_buku):\n",
        "    print(f\"{index+1} | {buku[0]} | {buku[1]}\")\n",
        "\n",
        "  print(\"\\n\\n\",\"=\"*20)\n",
        "  isLanjut = input(\"Apakah dilanjutkan?(y/n)\")\n",
        "\n",
        "  if isLanjut == \"n\":\n",
        "    break\n",
        "\n",
        "print(\"Program Selesai\")"
      ],
      "metadata": {
        "colab": {
          "base_uri": "https://localhost:8080/"
        },
        "id": "tuc9Haq0aeH1",
        "outputId": "efddd457-3c5c-4e8b-bfc3-319e63bba6b6"
      },
      "execution_count": 24,
      "outputs": [
        {
          "name": "stdout",
          "output_type": "stream",
          "text": [
            "\n",
            "Masukan data buku\n",
            "Judul buku\t: hihi\n",
            "Nama penulis\t haha\n",
            "\n",
            "\n",
            " ==========\n",
            "1 | hihi | haha\n",
            "\n",
            "\n",
            " ====================\n",
            "Apakah dilanjutkan?(y/n)y\n",
            "\n",
            "Masukan data buku\n",
            "Judul buku\t: haha\n",
            "Nama penulis\t hihi\n",
            "\n",
            "\n",
            " ==========\n",
            "1 | hihi | haha\n",
            "2 | haha | hihi\n",
            "\n",
            "\n",
            " ====================\n",
            "Apakah dilanjutkan?(y/n)x\n",
            "\n",
            "Masukan data buku\n",
            "Judul buku\t: hihi\n",
            "Nama penulis\t huhu\n",
            "\n",
            "\n",
            " ==========\n",
            "1 | hihi | haha\n",
            "2 | haha | hihi\n",
            "3 | hihi | huhu\n",
            "\n",
            "\n",
            " ====================\n",
            "Apakah dilanjutkan?(y/n)n\n"
          ]
        }
      ]
    },
    {
      "cell_type": "markdown",
      "source": [
        "## Tuples dan Set and Dictionary"
      ],
      "metadata": {
        "id": "AzLsD9hbef0m"
      }
    },
    {
      "cell_type": "markdown",
      "source": [
        "biasanya kan kita mencatat list menggunakan [],\n",
        "\n",
        "Tuples adalah list yang menggunakan tanda () -> tidak dapat ditambah atau dikurangi / dimodifikasi datanya\n",
        "\n",
        "Sets adalah list yang menggunakan tanda {} -> tidak memiliki index / sama dengan himpunan dalam ilmu matematika"
      ],
      "metadata": {
        "id": "PpuW_HMmfnBD"
      }
    },
    {
      "cell_type": "markdown",
      "source": [
        "Kalau dictionary bagaimana?"
      ],
      "metadata": {
        "id": "Ba4rf0pkgDNT"
      }
    },
    {
      "cell_type": "code",
      "source": [
        "# Contoh dictionary\n",
        "\n",
        "data_dict = {\n",
        "    'key' : 'value',\n",
        "    'cp' : 'ucup',\n",
        "    'tg' : 'otong',\n",
        "    'dg' : 'dudung'\n",
        "}\n",
        "\n",
        "print(data_dict['dg'])"
      ],
      "metadata": {
        "colab": {
          "base_uri": "https://localhost:8080/"
        },
        "id": "mkaAC_lChMfN",
        "outputId": "bdde2531-8f01-41ab-9aa6-faa13c4123f1"
      },
      "execution_count": 28,
      "outputs": [
        {
          "output_type": "stream",
          "name": "stdout",
          "text": [
            "dudung\n"
          ]
        }
      ]
    },
    {
      "cell_type": "markdown",
      "source": [
        "Operator Dictionary"
      ],
      "metadata": {
        "id": "rIZ9Xjo7kopI"
      }
    },
    {
      "cell_type": "code",
      "source": [
        "data_dict = {\n",
        "    'cup' : 'ucup surucup',\n",
        "    'tong' : 'otong surotong',\n",
        "    'dung' : 'dudung surudung',\n",
        "}\n",
        "\n",
        "# Panjang dictionary\n",
        "LENDICT = len(data_dict)\n",
        "print(f\"panjang dictionary: {LENDICT}\")\n",
        "\n",
        "# Mengecek key exist atau tidak\n",
        "KEY = \"cup\"\n",
        "CHECKKEY = KEY in data_dict\n",
        "print(f\"apakah {KEY} ada di data_dict: {CHECKKEY}\")\n",
        "\n",
        "# Mengakses value dengan get\n",
        "print(\"\\nCARA MENGAKSES VALUE DENGAN GET\")\n",
        "print(data_dict[\"cup\"])\n",
        "print(data_dict.get(\"cup\"))\n",
        "print(data_dict.get(\"kis\",\"key tidak ditemukan\"))\n",
        "\n",
        "print(\"\\nCARA UPDATE DATA\")\n",
        "# mengupdate data\n",
        "data_dict[\"cup\"] = \"ucup si ganteng\"\n",
        "print(data_dict)\n",
        "data_dict[\"sep\"] = \"asep si kasyep\"\n",
        "print(data_dict)\n",
        "\n",
        "data_dict.update({\"cup\":\"ucup surucup\"})\n",
        "print(data_dict)\n",
        "data_dict.update({\"faqih\":\"faqihza si kweren\"})\n",
        "print(data_dict)\n",
        "\n",
        "# mendelete data pada dictionary\n",
        "print(\"\\nCARA DELETE DATA\")\n",
        "del data_dict[\"faqih\"]\n",
        "print(data_dict)"
      ],
      "metadata": {
        "colab": {
          "base_uri": "https://localhost:8080/"
        },
        "id": "HkMRmsBTkqVi",
        "outputId": "3fd52d25-2ceb-438e-ec0b-04aee5a1d753"
      },
      "execution_count": 38,
      "outputs": [
        {
          "output_type": "stream",
          "name": "stdout",
          "text": [
            "panjang dictionary: 3\n",
            "apakah cup ada di data_dict: True\n",
            "\n",
            "CARA MENGAKSES VALUE DENGAN GET\n",
            "ucup surucup\n",
            "ucup surucup\n",
            "key tidak ditemukan\n",
            "\n",
            "CARA UPDATE DATA\n",
            "{'cup': 'ucup si ganteng', 'tong': 'otong surotong', 'dung': 'dudung surudung'}\n",
            "{'cup': 'ucup si ganteng', 'tong': 'otong surotong', 'dung': 'dudung surudung', 'sep': 'asep si kasyep'}\n",
            "{'cup': 'ucup surucup', 'tong': 'otong surotong', 'dung': 'dudung surudung', 'sep': 'asep si kasyep'}\n",
            "{'cup': 'ucup surucup', 'tong': 'otong surotong', 'dung': 'dudung surudung', 'sep': 'asep si kasyep', 'faqih': 'faqihza si kweren'}\n",
            "\n",
            "CARA DELETE DATA\n",
            "{'cup': 'ucup surucup', 'tong': 'otong surotong', 'dung': 'dudung surudung', 'sep': 'asep si kasyep'}\n"
          ]
        }
      ]
    }
  ]
}