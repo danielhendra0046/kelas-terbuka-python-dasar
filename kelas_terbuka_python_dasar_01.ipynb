{
  "nbformat": 4,
  "nbformat_minor": 0,
  "metadata": {
    "colab": {
      "provenance": [],
      "authorship_tag": "ABX9TyPfa4gQrwvsfzr3M2BA7L/o",
      "include_colab_link": true
    },
    "kernelspec": {
      "name": "python3",
      "display_name": "Python 3"
    },
    "language_info": {
      "name": "python"
    }
  },
  "cells": [
    {
      "cell_type": "markdown",
      "metadata": {
        "id": "view-in-github",
        "colab_type": "text"
      },
      "source": [
        "<a href=\"https://colab.research.google.com/github/danielhendra0046/kelas-terbuka-python-dasar/blob/main/kelas_terbuka_python_dasar_01.ipynb\" target=\"_parent\"><img src=\"https://colab.research.google.com/assets/colab-badge.svg\" alt=\"Open In Colab\"/></a>"
      ]
    },
    {
      "cell_type": "markdown",
      "source": [
        "# 30 OKTOBER 2023"
      ],
      "metadata": {
        "id": "EokSl5_DPn0_"
      }
    },
    {
      "cell_type": "markdown",
      "source": [
        "## Operasi List"
      ],
      "metadata": {
        "id": "9GTLVbm6PsKT"
      }
    },
    {
      "cell_type": "code",
      "execution_count": 4,
      "metadata": {
        "colab": {
          "base_uri": "https://localhost:8080/"
        },
        "id": "A5h9_inaPkWw",
        "outputId": "a40c0843-ccc5-4f9c-f50a-8d7298b76c60"
      },
      "outputs": [
        {
          "output_type": "stream",
          "name": "stdout",
          "text": [
            "jumlah angka 4 = 2\n",
            "jumlah angka 3 = 2\n",
            "data angka setelah disort = \n",
            "[0, 1, 1, 2, 2, 2, 3, 3, 4, 4, 5, 6, 6, 8, 9]\n",
            "data angka setelah direverse = \n",
            "[9, 8, 6, 6, 5, 4, 4, 3, 3, 2, 2, 2, 1, 1, 0]\n"
          ]
        }
      ],
      "source": [
        "# count digunakan untuk menghitung jumlah data\n",
        "\n",
        "data_angka = [1,5,1,4,3,2,4,3,2,2,6,8,9,0,6]\n",
        "\n",
        "jumlah_data_4 = data_angka.count(4)\n",
        "jumlah_data_3 = data_angka.count(3)\n",
        "\n",
        "print(f\"jumlah angka 4 = {jumlah_data_4}\")\n",
        "print(f\"jumlah angka 3 = {jumlah_data_3}\")\n",
        "\n",
        "# cara mengurutkan angka, menggunakan .sort\n",
        "\n",
        "data_angka.sort()\n",
        "print(f\"data angka setelah disort = \\n{data_angka}\")\n",
        "\n",
        "# cara membalik urutan\n",
        "\n",
        "data_angka.reverse()\n",
        "print(f\"data angka setelah direverse = \\n{data_angka}\")"
      ]
    },
    {
      "cell_type": "markdown",
      "source": [
        "Lalu, ada lagi .index , digunakan untuk menghitung dia posisi data ke berapa di list"
      ],
      "metadata": {
        "id": "V0OG5-ZGSRuD"
      }
    },
    {
      "cell_type": "markdown",
      "source": [],
      "metadata": {
        "id": "tm4O44CmSX63"
      }
    }
  ]
}