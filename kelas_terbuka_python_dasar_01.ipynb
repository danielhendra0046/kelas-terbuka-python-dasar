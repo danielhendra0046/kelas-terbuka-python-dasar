{
  "cells": [
    {
      "cell_type": "markdown",
      "metadata": {
        "colab_type": "text",
        "id": "view-in-github"
      },
      "source": [
        "<a href=\"https://colab.research.google.com/github/danielhendra0046/kelas-terbuka-python-dasar/blob/main/kelas_terbuka_python_dasar_01.ipynb\" target=\"_parent\"><img src=\"https://colab.research.google.com/assets/colab-badge.svg\" alt=\"Open In Colab\"/></a>"
      ]
    },
    {
      "cell_type": "code",
      "execution_count": 1,
      "metadata": {},
      "outputs": [
        {
          "name": "stdout",
          "output_type": "stream",
          "text": [
            "Hello\n"
          ]
        }
      ],
      "source": [
        "print(\"Hello\")"
      ]
    },
    {
      "cell_type": "markdown",
      "metadata": {
        "id": "EokSl5_DPn0_"
      },
      "source": [
        "# 30 OKTOBER 2023"
      ]
    },
    {
      "cell_type": "markdown",
      "metadata": {
        "id": "9GTLVbm6PsKT"
      },
      "source": [
        "## Operasi List"
      ]
    },
    {
      "cell_type": "code",
      "execution_count": null,
      "metadata": {
        "colab": {
          "base_uri": "https://localhost:8080/"
        },
        "id": "A5h9_inaPkWw",
        "outputId": "a40c0843-ccc5-4f9c-f50a-8d7298b76c60"
      },
      "outputs": [
        {
          "name": "stdout",
          "output_type": "stream",
          "text": [
            "jumlah angka 4 = 2\n",
            "jumlah angka 3 = 2\n",
            "data angka setelah disort = \n",
            "[0, 1, 1, 2, 2, 2, 3, 3, 4, 4, 5, 6, 6, 8, 9]\n",
            "data angka setelah direverse = \n",
            "[9, 8, 6, 6, 5, 4, 4, 3, 3, 2, 2, 2, 1, 1, 0]\n"
          ]
        }
      ],
      "source": [
        "# count digunakan untuk menghitung jumlah data\n",
        "\n",
        "data_angka = [1,5,1,4,3,2,4,3,2,2,6,8,9,0,6]\n",
        "\n",
        "jumlah_data_4 = data_angka.count(4)\n",
        "jumlah_data_3 = data_angka.count(3)\n",
        "\n",
        "print(f\"jumlah angka 4 = {jumlah_data_4}\")\n",
        "print(f\"jumlah angka 3 = {jumlah_data_3}\")\n",
        "\n",
        "# cara mengurutkan angka, menggunakan .sort\n",
        "\n",
        "data_angka.sort()\n",
        "print(f\"data angka setelah disort = \\n{data_angka}\")\n",
        "\n",
        "# cara membalik urutan\n",
        "\n",
        "data_angka.reverse()\n",
        "print(f\"data angka setelah direverse = \\n{data_angka}\")"
      ]
    },
    {
      "cell_type": "markdown",
      "metadata": {
        "id": "V0OG5-ZGSRuD"
      },
      "source": [
        "Lalu, ada lagi .index , digunakan untuk menghitung dia posisi data ke berapa di list"
      ]
    },
    {
      "cell_type": "markdown",
      "metadata": {
        "id": "tm4O44CmSX63"
      },
      "source": [
        "Lalu, gimana caranya copy list?"
      ]
    },
    {
      "cell_type": "code",
      "execution_count": null,
      "metadata": {
        "colab": {
          "base_uri": "https://localhost:8080/"
        },
        "id": "hMfwjOlMWIV6",
        "outputId": "19f855f3-d315-4adf-d23a-4debe6f7d1d6"
      },
      "outputs": [
        {
          "name": "stdout",
          "output_type": "stream",
          "text": [
            "ini adalah data angka: \n",
            "[1, 5, 1, 4, 3, 2, 4, 3, 2, 2, 6, 8, 9, 0, 6]\n",
            "ini adalah data angka setelah dicopy: \n",
            "[1, 5, 1, 4, 3, 2, 4, 3, 2, 2, 6, 8, 9, 0, 6]\n",
            "ini adalah data angka setelah diubah: \n",
            "[1, 3, 1, 4, 3, 2, 4, 3, 2, 2, 6, 8, 9, 0, 6]\n"
          ]
        }
      ],
      "source": [
        "data_angka = [1,5,1,4,3,2,4,3,2,2,6,8,9,0,6]\n",
        "\n",
        "data_angka_new = data_angka.copy()\n",
        "\n",
        "print(f\"ini adalah data angka: \\n{data_angka}\")\n",
        "print(f\"ini adalah data angka setelah dicopy: \\n{data_angka_new}\")\n",
        "\n",
        "data_angka_new[1] = 3\n",
        "\n",
        "print(f\"ini adalah data angka setelah diubah: \\n{data_angka_new}\")"
      ]
    },
    {
      "cell_type": "markdown",
      "metadata": {
        "id": "0XUeMX6tXNZV"
      },
      "source": [
        "Nested List -> list di dalam list"
      ]
    },
    {
      "cell_type": "code",
      "execution_count": null,
      "metadata": {
        "colab": {
          "base_uri": "https://localhost:8080/"
        },
        "id": "AW6cQZ1aXO9K",
        "outputId": "6095ec14-07bc-42fb-810f-eea2cd529904"
      },
      "outputs": [
        {
          "name": "stdout",
          "output_type": "stream",
          "text": [
            "list 2D [[1, 2], [3, 4, 5]]\n",
            "peserta = [['Ucup', 25, 'Laki-laki'], ['Otong', 10, 'Laki-laki'], ['Dedeh', 50, 'Wanita']]\n",
            "nama\t: Ucup\n",
            "umur\t: 25\n",
            "gender\t: Laki-laki\n",
            "\n",
            "nama\t: Otong\n",
            "umur\t: 10\n",
            "gender\t: Laki-laki\n",
            "\n",
            "nama\t: Dedeh\n",
            "umur\t: 50\n",
            "gender\t: Wanita\n",
            "\n"
          ]
        }
      ],
      "source": [
        "data_0 = [1,2]\n",
        "data_1 = [3,4,5]\n",
        "\n",
        "list_2D = [data_0,data_1]\n",
        "\n",
        "print(f\"list 2D {list_2D}\")\n",
        "\n",
        "# contoh penggunaan\n",
        "\n",
        "peserta_0 = [\"Ucup\",25,\"Laki-laki\"]\n",
        "peserta_1 = [\"Otong\",10,\"Laki-laki\"]\n",
        "peserta_2 = [\"Dedeh\",50,\"Wanita\"]\n",
        "\n",
        "list_peserta = [peserta_0,peserta_1,peserta_2]\n",
        "\n",
        "print(f\"peserta = {list_peserta}\")\n",
        "\n",
        "for peserta in list_peserta:\n",
        "  print(f\"nama\\t: {peserta[0]}\")\n",
        "  print(f\"umur\\t: {peserta[1]}\")\n",
        "  print(f\"gender\\t: {peserta[2]}\\n\")"
      ]
    },
    {
      "cell_type": "markdown",
      "metadata": {
        "id": "VaaaGPG8e8x0"
      },
      "source": [
        "kalau kita mengcopy data nested list, kita tidak bisa memakai cara biasa. Harus pakai deepcopy"
      ]
    },
    {
      "cell_type": "code",
      "execution_count": null,
      "metadata": {
        "colab": {
          "base_uri": "https://localhost:8080/"
        },
        "id": "PcTPzJuwe9ch",
        "outputId": "d438d7aa-93b4-435d-8248-f0346f102e43"
      },
      "outputs": [
        {
          "name": "stdout",
          "output_type": "stream",
          "text": [
            "address asli = 0x7bde07780a00\n",
            "address deep = 0x7bde0777c600\n",
            "\n",
            "Address dari member ke-1\n",
            "address asli = 0x7bde07783940\n",
            "address deep = 0x7bde0777c840\n"
          ]
        }
      ],
      "source": [
        "data_0 = [1,2]\n",
        "data_1 = [3,4]\n",
        "\n",
        "data_2D = [data_0,data_1]\n",
        "\n",
        "from copy import deepcopy\n",
        "\n",
        "data_2D_deepcopy = deepcopy(data_2D)\n",
        "\n",
        "print(f\"address asli = {hex(id(data_2D))}\")\n",
        "print(f\"address deep = {hex(id(data_2D_deepcopy))}\\n\")\n",
        "\n",
        "print(\"Address dari member ke-1\")\n",
        "print(f\"address asli = {hex(id(data_2D[0]))}\")\n",
        "print(f\"address deep = {hex(id(data_2D_deepcopy[0]))}\")"
      ]
    },
    {
      "cell_type": "markdown",
      "metadata": {
        "id": "3NT9poXZkkeJ"
      },
      "source": [
        "## Looping List dan Enumerate"
      ]
    },
    {
      "cell_type": "markdown",
      "metadata": {
        "id": "5L6XQp1Qkmwn"
      },
      "source": []
    },
    {
      "cell_type": "markdown",
      "metadata": {
        "id": "Tcxo7bkiNYhq"
      },
      "source": [
        "# 31 OKTOBER 2023"
      ]
    },
    {
      "cell_type": "markdown",
      "metadata": {
        "id": "QWBrwN4YNaoy"
      },
      "source": [
        "## Looping List dan Eunumerate"
      ]
    },
    {
      "cell_type": "markdown",
      "metadata": {
        "id": "_3C_wnUqNfdY"
      },
      "source": [
        "cara looping list"
      ]
    },
    {
      "cell_type": "code",
      "execution_count": null,
      "metadata": {
        "colab": {
          "base_uri": "https://localhost:8080/"
        },
        "id": "sA7MYPRcP4Cu",
        "outputId": "da30fffe-05c6-4490-e29b-25a90b6ec655"
      },
      "outputs": [
        {
          "name": "stdout",
          "output_type": "stream",
          "text": [
            "For Loop\n",
            "angka = 4\n",
            "angka = 3\n",
            "angka = 2\n",
            "angka = 5\n",
            "angka = 6\n",
            "angka = 1\n",
            "nama = Ucup\n",
            "nama = Otong\n",
            "nama = Dadang\n",
            "nama = Diding\n",
            "\n",
            "For Loop dan Range\n",
            "angka = 10\n",
            "angka = 5\n",
            "angka = 4\n",
            "angka = 2\n",
            "angka = 6\n",
            "angka = 5\n",
            "\n",
            "While Loop\n",
            "angka = 10\n",
            "angka = 5\n",
            "angka = 4\n",
            "angka = 2\n",
            "angka = 6\n",
            "angka = 5\n",
            "\n",
            "List Comprehension\n",
            "data = Ucup\n",
            "data = 1\n",
            "data = 2\n",
            "data = 3\n",
            "data = Otong\n",
            "\n",
            "List Comprehension Dikuadratkan\n",
            "[100, 25, 16, 4, 36, 25]\n",
            "data = 100\n",
            "data = 25\n",
            "data = 16\n",
            "data = 4\n",
            "data = 36\n",
            "data = 25\n",
            "\n",
            "Enumerate\n",
            "index = 0, data = Ucup\n",
            "index = 1, data = 1\n",
            "index = 2, data = 2\n",
            "index = 3, data = 3\n",
            "index = 4, data = Otong\n"
          ]
        }
      ],
      "source": [
        "# looping list menggunakan for loop\n",
        "\n",
        "print(\"For Loop\")\n",
        "kumpulan_angka = [4,3,2,5,6,1]\n",
        "\n",
        "for angka in kumpulan_angka:\n",
        "  print(f\"angka = {angka}\")\n",
        "\n",
        "peserta = [\"Ucup\",\"Otong\",\"Dadang\",\"Diding\"]\n",
        "\n",
        "for nama in peserta:\n",
        "  print(f'nama = {nama}')\n",
        "\n",
        "# looping list menggunakan for loop dan range\n",
        "print(\"\\nFor Loop dan Range\")\n",
        "kumpulan_angka = [10,5,4,2,6,5]\n",
        "panjang = len(kumpulan_angka)\n",
        "\n",
        "for i in range(panjang):\n",
        "  print(f\"angka = {kumpulan_angka[i]}\")\n",
        "\n",
        "# looping list menggunakan while loop\n",
        "print(\"\\nWhile Loop\")\n",
        "kumpulan_angka = [10,5,4,2,6,5]\n",
        "\n",
        "panjang = len(kumpulan_angka)\n",
        "i = 0\n",
        "\n",
        "while i < panjang:\n",
        "  print(f\"angka = {kumpulan_angka[i]}\")\n",
        "  i += 1\n",
        "\n",
        "# looping list menggunakan list comprehension\n",
        "print(\"\\nList Comprehension\")\n",
        "\n",
        "data = [\"Ucup\",1,2,3,\"Otong\"]\n",
        "\n",
        "[print(f\"data = {i}\") for i in data]\n",
        "\n",
        "\n",
        "# looping list menggunakan list comprehension dikuadratkan\n",
        "print(\"\\nList Comprehension Dikuadratkan\")\n",
        "angka = [10,5,4,2,6,5]\n",
        "\n",
        "angka_kuadrat = [i**2 for i in angka]\n",
        "print(angka_kuadrat)\n",
        "\n",
        "[print(f\"data = {i**2}\") for i in angka]\n",
        "\n",
        "# looping list menggunakan enumerate\n",
        "print(\"\\nEnumerate\")\n",
        "data_list = [\"Ucup\",1,2,3,\"Otong\"]\n",
        "\n",
        "for index,data in enumerate(data_list):\n",
        "  print(f\"index = {index}, data = {data}\")"
      ]
    },
    {
      "cell_type": "markdown",
      "metadata": {
        "id": "RRETJfSnacKz"
      },
      "source": [
        "## Latihan List"
      ]
    },
    {
      "cell_type": "code",
      "execution_count": null,
      "metadata": {
        "colab": {
          "base_uri": "https://localhost:8080/"
        },
        "id": "tuc9Haq0aeH1",
        "outputId": "efddd457-3c5c-4e8b-bfc3-319e63bba6b6"
      },
      "outputs": [
        {
          "name": "stdout",
          "output_type": "stream",
          "text": [
            "\n",
            "Masukan data buku\n",
            "Judul buku\t: hihi\n",
            "Nama penulis\t haha\n",
            "\n",
            "\n",
            " ==========\n",
            "1 | hihi | haha\n",
            "\n",
            "\n",
            " ====================\n",
            "Apakah dilanjutkan?(y/n)y\n",
            "\n",
            "Masukan data buku\n",
            "Judul buku\t: haha\n",
            "Nama penulis\t hihi\n",
            "\n",
            "\n",
            " ==========\n",
            "1 | hihi | haha\n",
            "2 | haha | hihi\n",
            "\n",
            "\n",
            " ====================\n",
            "Apakah dilanjutkan?(y/n)x\n",
            "\n",
            "Masukan data buku\n",
            "Judul buku\t: hihi\n",
            "Nama penulis\t huhu\n",
            "\n",
            "\n",
            " ==========\n",
            "1 | hihi | haha\n",
            "2 | haha | hihi\n",
            "3 | hihi | huhu\n",
            "\n",
            "\n",
            " ====================\n",
            "Apakah dilanjutkan?(y/n)n\n"
          ]
        }
      ],
      "source": [
        "# Program list buku\n",
        "\n",
        "list_buku = []\n",
        "while True:\n",
        "  print(\"\\nMasukan data buku\")\n",
        "  judul = input(\"Judul buku\\t: \")\n",
        "  penulis = input(\"Nama penulis\\t \")\n",
        "\n",
        "  buku_baru = [judul,penulis]\n",
        "  list_buku.append(buku_baru)\n",
        "\n",
        "  print(\"\\n\\n\",\"=\"*10)\n",
        "  for index,buku in enumerate(list_buku):\n",
        "    print(f\"{index+1} | {buku[0]} | {buku[1]}\")\n",
        "\n",
        "  print(\"\\n\\n\",\"=\"*20)\n",
        "  isLanjut = input(\"Apakah dilanjutkan?(y/n)\")\n",
        "\n",
        "  if isLanjut == \"n\":\n",
        "    break\n",
        "\n",
        "print(\"Program Selesai\")"
      ]
    },
    {
      "cell_type": "markdown",
      "metadata": {
        "id": "AzLsD9hbef0m"
      },
      "source": [
        "## Tuples dan Set and Dictionary"
      ]
    },
    {
      "cell_type": "markdown",
      "metadata": {
        "id": "PpuW_HMmfnBD"
      },
      "source": [
        "biasanya kan kita mencatat list menggunakan [],\n",
        "\n",
        "Tuples adalah list yang menggunakan tanda () -> tidak dapat ditambah atau dikurangi / dimodifikasi datanya\n",
        "\n",
        "Sets adalah list yang menggunakan tanda {} -> tidak memiliki index / sama dengan himpunan dalam ilmu matematika"
      ]
    },
    {
      "cell_type": "markdown",
      "metadata": {
        "id": "Ba4rf0pkgDNT"
      },
      "source": [
        "Kalau dictionary bagaimana?"
      ]
    },
    {
      "cell_type": "code",
      "execution_count": null,
      "metadata": {
        "colab": {
          "base_uri": "https://localhost:8080/"
        },
        "id": "mkaAC_lChMfN",
        "outputId": "bdde2531-8f01-41ab-9aa6-faa13c4123f1"
      },
      "outputs": [
        {
          "name": "stdout",
          "output_type": "stream",
          "text": [
            "dudung\n"
          ]
        }
      ],
      "source": [
        "# Contoh dictionary\n",
        "\n",
        "data_dict = {\n",
        "    'key' : 'value',\n",
        "    'cp' : 'ucup',\n",
        "    'tg' : 'otong',\n",
        "    'dg' : 'dudung'\n",
        "}\n",
        "\n",
        "print(data_dict['dg'])"
      ]
    },
    {
      "cell_type": "markdown",
      "metadata": {
        "id": "rIZ9Xjo7kopI"
      },
      "source": [
        "Operator Dictionary"
      ]
    },
    {
      "cell_type": "code",
      "execution_count": null,
      "metadata": {
        "colab": {
          "base_uri": "https://localhost:8080/"
        },
        "id": "HkMRmsBTkqVi",
        "outputId": "3fd52d25-2ceb-438e-ec0b-04aee5a1d753"
      },
      "outputs": [
        {
          "name": "stdout",
          "output_type": "stream",
          "text": [
            "panjang dictionary: 3\n",
            "apakah cup ada di data_dict: True\n",
            "\n",
            "CARA MENGAKSES VALUE DENGAN GET\n",
            "ucup surucup\n",
            "ucup surucup\n",
            "key tidak ditemukan\n",
            "\n",
            "CARA UPDATE DATA\n",
            "{'cup': 'ucup si ganteng', 'tong': 'otong surotong', 'dung': 'dudung surudung'}\n",
            "{'cup': 'ucup si ganteng', 'tong': 'otong surotong', 'dung': 'dudung surudung', 'sep': 'asep si kasyep'}\n",
            "{'cup': 'ucup surucup', 'tong': 'otong surotong', 'dung': 'dudung surudung', 'sep': 'asep si kasyep'}\n",
            "{'cup': 'ucup surucup', 'tong': 'otong surotong', 'dung': 'dudung surudung', 'sep': 'asep si kasyep', 'faqih': 'faqihza si kweren'}\n",
            "\n",
            "CARA DELETE DATA\n",
            "{'cup': 'ucup surucup', 'tong': 'otong surotong', 'dung': 'dudung surudung', 'sep': 'asep si kasyep'}\n"
          ]
        }
      ],
      "source": [
        "data_dict = {\n",
        "    'cup' : 'ucup surucup',\n",
        "    'tong' : 'otong surotong',\n",
        "    'dung' : 'dudung surudung',\n",
        "}\n",
        "\n",
        "# Panjang dictionary\n",
        "LENDICT = len(data_dict)\n",
        "print(f\"panjang dictionary: {LENDICT}\")\n",
        "\n",
        "# Mengecek key exist atau tidak\n",
        "KEY = \"cup\"\n",
        "CHECKKEY = KEY in data_dict\n",
        "print(f\"apakah {KEY} ada di data_dict: {CHECKKEY}\")\n",
        "\n",
        "# Mengakses value dengan get\n",
        "print(\"\\nCARA MENGAKSES VALUE DENGAN GET\")\n",
        "print(data_dict[\"cup\"])\n",
        "print(data_dict.get(\"cup\"))\n",
        "print(data_dict.get(\"kis\",\"key tidak ditemukan\"))\n",
        "\n",
        "print(\"\\nCARA UPDATE DATA\")\n",
        "# mengupdate data\n",
        "data_dict[\"cup\"] = \"ucup si ganteng\"\n",
        "print(data_dict)\n",
        "data_dict[\"sep\"] = \"asep si kasyep\"\n",
        "print(data_dict)\n",
        "\n",
        "data_dict.update({\"cup\":\"ucup surucup\"})\n",
        "print(data_dict)\n",
        "data_dict.update({\"faqih\":\"faqihza si kweren\"})\n",
        "print(data_dict)\n",
        "\n",
        "# mendelete data pada dictionary\n",
        "print(\"\\nCARA DELETE DATA\")\n",
        "del data_dict[\"faqih\"]\n",
        "print(data_dict)"
      ]
    },
    {
      "cell_type": "markdown",
      "metadata": {
        "id": "r6bEGcI4w8oH"
      },
      "source": [
        "Looping Dictionary -> intinya bagaimana cara mengambil key, value, dan items di dalam dictionary"
      ]
    },
    {
      "cell_type": "markdown",
      "metadata": {
        "id": "5Sortv9YyzcH"
      },
      "source": [
        "cara mengcopy dictionary menggunakan .copy <br>\n",
        "cara mentransfer data dictionary menggunakan .pop , kalau .popitem itu mentransfer data yang paling terakhir"
      ]
    },
    {
      "cell_type": "code",
      "execution_count": null,
      "metadata": {
        "id": "k_ioFIPew8UQ"
      },
      "outputs": [],
      "source": []
    },
    {
      "cell_type": "markdown",
      "metadata": {
        "id": "-jhXKl8v73Mu"
      },
      "source": [
        "## Latihan Dictionary"
      ]
    },
    {
      "cell_type": "markdown",
      "metadata": {
        "id": "IRCnDg88761B"
      },
      "source": []
    },
    {
      "cell_type": "code",
      "execution_count": null,
      "metadata": {
        "colab": {
          "base_uri": "https://localhost:8080/"
        },
        "id": "P1dbJx9b8Au5",
        "outputId": "473f19e5-39b1-49e2-c68e-447acd8e26d2"
      },
      "outputs": [
        {
          "name": "stdout",
          "output_type": "stream",
          "text": [
            "   SELAMAT DATANG   \n",
            "   DATA MAHASISWA   \n",
            "--------------------\n",
            "Nama Mahasiswa: daniel\n",
            "NIM Mahasiswa: 101019\n",
            "SKS Lulus Mahasiswa: 144\n",
            "Tahun lahir (YYYY): 2000\n",
            "Bulan lahir (1-12): 08\n",
            "Tanggal lahir (1-31): 07\n",
            "\n",
            "KEY    Nama              NIM      SKS Lulus  Tanggal Lahir\n",
            "------------------------------------------------------------\n",
            "BZFAHA daniel            101019      144      08/07/00 \n",
            "\n",
            "\n",
            "Sudah beres bro? (y/n) n\n",
            "\n",
            "Akhir dari program, terima kasih\n"
          ]
        }
      ],
      "source": [
        "import datetime\n",
        "import string\n",
        "import random\n",
        "\n",
        "mahasiswa_template = {\n",
        "    'nama':'nama',\n",
        "    'nim':'00000000',\n",
        "    'sks_lulus':0,\n",
        "    'lahir':datetime.datetime(1111,1,11)\n",
        "}\n",
        "\n",
        "data_mahasiswa = {}\n",
        "\n",
        "while True:\n",
        "  print(f\"{'SELAMAT DATANG':^20}\")\n",
        "  print(f\"{'DATA MAHASISWA':^20}\")\n",
        "  print(\"-\"*20)\n",
        "\n",
        "  mahasiswa = dict.fromkeys(mahasiswa_template.keys())\n",
        "  mahasiswa['nama'] = input(\"Nama Mahasiswa: \")\n",
        "  mahasiswa['nim'] = input(\"NIM Mahasiswa: \")\n",
        "  mahasiswa['sks_lulus'] = int(input(\"SKS Lulus Mahasiswa: \"))\n",
        "  TAHUN_LAHIR = int(input(\"Tahun lahir (YYYY): \"))\n",
        "  BULAN_LAHIR = int(input(\"Bulan lahir (1-12): \"))\n",
        "  TANGGAL_LAHIR = int(input(\"Tanggal lahir (1-31): \" ))\n",
        "  mahasiswa['lahir'] = datetime.datetime(TAHUN_LAHIR,BULAN_LAHIR,TANGGAL_LAHIR)\n",
        "\n",
        "  KEY = ''.join((random.choice(string.ascii_uppercase) for i in range(6)))\n",
        "  data_mahasiswa.update({KEY:mahasiswa})\n",
        "\n",
        "  print(f\"\\n{'KEY':<6} {'Nama':<17} {'NIM':<8} {'SKS Lulus':<10} {'Tanggal Lahir':<10}\")\n",
        "  print('-'*60)\n",
        "\n",
        "  for mahasiswa in data_mahasiswa:\n",
        "    KEY = mahasiswa\n",
        "\n",
        "    NAMA = data_mahasiswa[KEY]['nama']\n",
        "    NIM = data_mahasiswa[KEY]['nim']\n",
        "    SKS = data_mahasiswa[KEY]['sks_lulus']\n",
        "    LAHIR = data_mahasiswa[KEY]['lahir'].strftime(\"%x\")\n",
        "\n",
        "    print(f\"{KEY:<6} {NAMA:<17} {NIM:<8} {SKS:^10} {LAHIR:^10}\")\n",
        "\n",
        "  print(\"\\n\")\n",
        "  is_done = input(\"Sudah beres bro? (y/n) \")\n",
        "  if is_done == \"n\":\n",
        "    break\n",
        "\n",
        "print(\"\\nAkhir dari program, terima kasih\")"
      ]
    },
    {
      "cell_type": "markdown",
      "metadata": {
        "id": "OYQIJxYRiKJ6"
      },
      "source": [
        "## Fungsi"
      ]
    },
    {
      "cell_type": "markdown",
      "metadata": {
        "id": "tn1-sMFQiLza"
      },
      "source": [
        "Berguna untuk menyederhanakan codingan"
      ]
    },
    {
      "cell_type": "code",
      "execution_count": null,
      "metadata": {
        "colab": {
          "base_uri": "https://localhost:8080/"
        },
        "id": "RSjgmX2EiOTU",
        "outputId": "83cb1bd8-716a-4c34-ee75-87b476c6c500"
      },
      "outputs": [
        {
          "name": "stdout",
          "output_type": "stream",
          "text": [
            "Hallo ucup\n",
            "----------\n",
            "1 + 5 = 6\n",
            "----------\n",
            "Yang terhormat Ucup\n",
            "Yang terhormat Otong\n",
            "Yang terhormat Dudung\n"
          ]
        }
      ],
      "source": [
        "def hello_world(nama):\n",
        "  print(f\"Hallo {nama}\")\n",
        "\n",
        "hello_world(\"ucup\")\n",
        "\n",
        "# program tambah\n",
        "print('-'*10)\n",
        "\n",
        "def tambah(angka_1,angka_2):\n",
        "  hasil = angka_1 + angka_2\n",
        "  print(f\"{angka_1} + {angka_2} = {hasil}\")\n",
        "\n",
        "tambah(1,5)\n",
        "\n",
        "# ????\n",
        "print('-'*10)\n",
        "\n",
        "def say_hi(list_peserta):\n",
        "  data_peserta = list_peserta.copy()\n",
        "  for peserta in data_peserta:\n",
        "    print(f\"Yang terhormat {peserta}\")\n",
        "\n",
        "anggota_boyband = [\"Ucup\",\"Otong\",\"Dudung\"]\n",
        "\n",
        "say_hi(anggota_boyband)\n"
      ]
    },
    {
      "cell_type": "markdown",
      "metadata": {
        "id": "SjK9xFePlJwJ"
      },
      "source": [
        "Fungsi Return"
      ]
    },
    {
      "cell_type": "code",
      "execution_count": null,
      "metadata": {
        "colab": {
          "base_uri": "https://localhost:8080/"
        },
        "id": "ndAReVBelKlR",
        "outputId": "02804909-7e3e-4e0a-f760-88b842ea3b11"
      },
      "outputs": [
        {
          "name": "stdout",
          "output_type": "stream",
          "text": [
            "25\n",
            "----------\n",
            "Hasil tambah = 14\n",
            "Hasil kurang = 4\n",
            "Hasil kali = 45\n",
            "Hasil bagi = 1.8\n"
          ]
        }
      ],
      "source": [
        "# Fungsi return biasa\n",
        "def kuadrat(input_angka):\n",
        "  output_kuadrat = input_angka**2\n",
        "  return output_kuadrat\n",
        "\n",
        "y = kuadrat(5)\n",
        "print(y)\n",
        "\n",
        "# Fungsi dengan return banyak\n",
        "print('-'*10)\n",
        "\n",
        "def operasi_matematika(angka_1,angka_2):\n",
        "  tambah = angka_1 + angka_2\n",
        "  kurang = angka_1 - angka_2\n",
        "  kali = angka_1 * angka_2\n",
        "  bagi = angka_1 / angka_2\n",
        "\n",
        "  return tambah,kurang,kali,bagi\n",
        "\n",
        "k,l,m,n = operasi_matematika(9,5)\n",
        "\n",
        "print(f\"Hasil tambah = {k}\")\n",
        "print(f\"Hasil kurang = {l}\")\n",
        "print(f\"Hasil kali = {m}\")\n",
        "print(f\"Hasil bagi = {n}\")"
      ]
    },
    {
      "cell_type": "markdown",
      "metadata": {
        "id": "o4vupnr-zgdG"
      },
      "source": [
        "Default argument"
      ]
    },
    {
      "cell_type": "code",
      "execution_count": null,
      "metadata": {
        "colab": {
          "base_uri": "https://localhost:8080/"
        },
        "id": "QkRMq5Ii0UoJ",
        "outputId": "600d53af-f695-434c-f0c1-e19f7e05e381"
      },
      "outputs": [
        {
          "name": "stdout",
          "output_type": "stream",
          "text": [
            "Hallo Ucup\n",
            "Hallo Ganteng\n",
            "----------\n",
            "hai Dudung, Hai Ganteeeng\n",
            "hai Otong, Apa kabar?\n",
            "hai Ucup, Apa kabar?\n"
          ]
        }
      ],
      "source": [
        "def say_hello(nama = \"Ganteng\"):\n",
        "  print(f\"Hallo {nama}\")\n",
        "\n",
        "say_hello(\"Ucup\")\n",
        "say_hello()\n",
        "\n",
        "# dengan banyak parameter\n",
        "print('-'*10)\n",
        "\n",
        "def sapa_dia(nama, pesan = \"Apa kabar?\"):\n",
        "  print(f\"hai {nama}, {pesan}\")\n",
        "\n",
        "sapa_dia(\"Dudung\",\"Hai Ganteeeng\")\n",
        "sapa_dia(\"Otong\")\n",
        "sapa_dia(nama=\"Ucup\")"
      ]
    },
    {
      "cell_type": "markdown",
      "metadata": {
        "id": "dJr_KXT8AqhX"
      },
      "source": [
        "## Latihan Fungsi"
      ]
    },
    {
      "cell_type": "code",
      "execution_count": null,
      "metadata": {
        "colab": {
          "base_uri": "https://localhost:8080/"
        },
        "id": "bk5iHayfAr8i",
        "outputId": "e523684e-d3ea-4042-8092-1f0163234deb"
      },
      "outputs": [
        {
          "name": "stdout",
          "output_type": "stream",
          "text": [
            "        PROGRAM MENGHITUNG LUAS         \n",
            "      DAN KELILIG PERSEGI PANJANG       \n",
            "----------------------------------------\n",
            "masukan nilai lebar: 20\n",
            "masukan nilai panjang: 30\n",
            "hasil perhitungan luas = 600\n",
            "hasil perhitungan keliling = 100\n",
            "apakah lanjut?(y/n)y\n",
            "        PROGRAM MENGHITUNG LUAS         \n",
            "      DAN KELILIG PERSEGI PANJANG       \n",
            "----------------------------------------\n",
            "masukan nilai lebar: 49\n",
            "masukan nilai panjang: 20\n",
            "hasil perhitungan luas = 980\n",
            "hasil perhitungan keliling = 138\n",
            "apakah lanjut?(y/n)n\n",
            "Program selesai, terima kasih!\n"
          ]
        }
      ],
      "source": [
        "'''Latihan Fungsi'''\n",
        "\n",
        "import os\n",
        "\n",
        "# Program menghitung luas dan keliling persegi panjang\n",
        "\n",
        "# membuat header program\n",
        "\n",
        "def header():\n",
        "  '''Fungsi header'''\n",
        "  os.system(\"clear\")\n",
        "  print(f\"{'PROGRAM MENGHITUNG LUAS':^40}\")\n",
        "  print(f\"{'DAN KELILIG PERSEGI PANJANG':^40}\")\n",
        "  print(f\"{'-'*40:^40}\")\n",
        "\n",
        "def input_user():\n",
        "  '''fungsi input user'''\n",
        "  lebar = int(input(\"masukan nilai lebar: \"))\n",
        "  panjang = int(input(\"masukan nilai panjang: \"))\n",
        "\n",
        "  return lebar,panjang\n",
        "\n",
        "def hitung_luas(lebar,panjang):\n",
        "  '''fungsi luas'''\n",
        "  return lebar*panjang\n",
        "\n",
        "def hitung_keliling(lebar,panjang):\n",
        "  '''fungsi luas'''\n",
        "  return 2*(lebar+panjang)\n",
        "\n",
        "def display(message,value):\n",
        "  print(f\"hasil perhitungan {message} = {value}\")\n",
        "\n",
        "while True:\n",
        "  header()\n",
        "  LEBAR,PANJANG = input_user()\n",
        "  LUAS = hitung_luas(LEBAR,PANJANG)\n",
        "  KELILING = hitung_keliling(LEBAR,PANJANG)\n",
        "\n",
        "  display(\"luas\", LUAS)\n",
        "  display(\"keliling\", KELILING)\n",
        "\n",
        "  isContinue = input(\"apakah lanjut?(y/n)\")\n",
        "  if isContinue == \"n\":\n",
        "    break\n",
        "\n",
        "print(\"Program selesai, terima kasih!\")"
      ]
    },
    {
      "cell_type": "markdown",
      "metadata": {
        "id": "vYjqhPxYivHU"
      },
      "source": [
        "# 1 NOVEMBER 2023"
      ]
    },
    {
      "cell_type": "markdown",
      "metadata": {
        "id": "e0GThyEniyP0"
      },
      "source": [
        "## Fungsi Lanjutan"
      ]
    },
    {
      "cell_type": "markdown",
      "metadata": {
        "id": "3ynUWq3ui2FI"
      },
      "source": [
        "Type hint cara penulisannya yaitu <br>\n",
        "def sepuluh_pangkat(apapun:int) <br>\n",
        "fungsinya agar dokumentasi kita rapi"
      ]
    },
    {
      "cell_type": "markdown",
      "metadata": {
        "id": "vTdssYp1mZGO"
      },
      "source": [
        "Tentang *args"
      ]
    },
    {
      "cell_type": "code",
      "execution_count": null,
      "metadata": {
        "colab": {
          "base_uri": "https://localhost:8080/"
        },
        "id": "tAvZmVpEi5PB",
        "outputId": "f200cb94-c6ca-403d-aa34-043fa251120e"
      },
      "outputs": [
        {
          "name": "stdout",
          "output_type": "stream",
          "text": [
            "dudung punya tinggi 120 dan berat 120\n"
          ]
        }
      ],
      "source": [
        "def fungsi(*args): # bisa apapun, nggak harus args\n",
        "   nama = args[0]\n",
        "   tinggi = args[1]\n",
        "   berat = args[2]\n",
        "   print(f\"{nama} punya tinggi {tinggi} dan berat {berat}\")\n",
        "\n",
        "fungsi(\"dudung\",120,120)"
      ]
    },
    {
      "cell_type": "markdown",
      "metadata": {
        "id": "q-ZZPyU5pEVI"
      },
      "source": [
        "Tentang **kwargs"
      ]
    },
    {
      "cell_type": "code",
      "execution_count": null,
      "metadata": {
        "colab": {
          "base_uri": "https://localhost:8080/"
        },
        "id": "NO7li_42pG-7",
        "outputId": "4ffde5bb-eab0-4f44-edb0-a8bc0e0bdea1"
      },
      "outputs": [
        {
          "name": "stdout",
          "output_type": "stream",
          "text": [
            "ucup\n",
            "ucup punya tinggi 183 dan berat 79\n"
          ]
        }
      ],
      "source": [
        "# contoh biasa\n",
        "\n",
        "def fungsi(**kwargs):\n",
        "  '''fungsi kwargs'''\n",
        "  print(kwargs[\"nama\"])\n",
        "\n",
        "fungsi(nama=\"ucup\",tinggi=183,berat=79)\n",
        "\n",
        "# contoh lain\n",
        "\n",
        "def fungsi(**kwargs):\n",
        "  '''fungsi kwargs'''\n",
        "  nama = kwargs[\"nama\"]\n",
        "  tinggi = kwargs[\"tinggi\"]\n",
        "  berat = kwargs[\"berat\"]\n",
        "  print(f\"{nama} punya tinggi {tinggi} dan berat {berat}\")\n",
        "\n",
        "fungsi(nama=\"ucup\",tinggi=183,berat=79)"
      ]
    },
    {
      "cell_type": "code",
      "execution_count": null,
      "metadata": {
        "colab": {
          "base_uri": "https://localhost:8080/"
        },
        "id": "vMCgZ93iTeH1",
        "outputId": "26b06e73-6d16-4178-933a-b3da1ea85532"
      },
      "outputs": [
        {
          "name": "stdout",
          "output_type": "stream",
          "text": [
            "hasil jumlah 21\n",
            "hasil kali 720\n"
          ]
        }
      ],
      "source": [
        "# studi kasus\n",
        "\n",
        "def math(*args,**kwargs):\n",
        "  output = 0\n",
        "  if kwargs[\"option\"] == \"tambah\":\n",
        "    for angka in args:\n",
        "      output += angka\n",
        "  elif kwargs[\"option\"] == \"kali\":\n",
        "    output = 1\n",
        "    for angka in args:\n",
        "      output *= angka\n",
        "  else:\n",
        "    print(\"tidak ada operasi\")\n",
        "\n",
        "  return output\n",
        "\n",
        "hasil = math(1,2,3,4,5,6,option=\"tambah\")\n",
        "print(f\"hasil jumlah {hasil}\")\n",
        "\n",
        "hasil = math(1,2,3,4,5,6,option=\"kali\")\n",
        "print(f\"hasil kali {hasil}\")"
      ]
    },
    {
      "cell_type": "markdown",
      "metadata": {
        "id": "rmr2lJKsYn5V"
      },
      "source": [
        "## Lambda dan Anonymous Function"
      ]
    },
    {
      "cell_type": "markdown",
      "metadata": {
        "id": "cz-lkjhBYtCk"
      },
      "source": [
        "Fungsi lambda -> mengsimplekan codingan"
      ]
    },
    {
      "cell_type": "code",
      "execution_count": null,
      "metadata": {
        "colab": {
          "base_uri": "https://localhost:8080/"
        },
        "id": "Io1ZfDiWYvx2",
        "outputId": "04dc8dfc-bcdd-4681-9d0c-3744cbe08b85"
      },
      "outputs": [
        {
          "name": "stdout",
          "output_type": "stream",
          "text": [
            "hasil lambda kuadrat = 9\n"
          ]
        }
      ],
      "source": [
        "kuadrat = lambda angka : angka**2\n",
        "print(f\"hasil lambda kuadrat = {kuadrat(3)}\")"
      ]
    },
    {
      "cell_type": "code",
      "execution_count": null,
      "metadata": {
        "colab": {
          "base_uri": "https://localhost:8080/"
        },
        "id": "NGaPt7w9ZvEE",
        "outputId": "e381e3c8-0ed5-4cce-d209-ba6a318cc8d8"
      },
      "outputs": [
        {
          "name": "stdout",
          "output_type": "stream",
          "text": [
            "hasil lambda pangkat = 16\n"
          ]
        }
      ],
      "source": [
        "pangkat = lambda num,pow : num**pow\n",
        "print(f\"hasil lambda pangkat = {pangkat(4,2)}\")"
      ]
    },
    {
      "cell_type": "code",
      "execution_count": null,
      "metadata": {
        "colab": {
          "base_uri": "https://localhost:8080/"
        },
        "id": "tyY3-jhZb-1E",
        "outputId": "6436afa2-869e-4591-d172-32405ab7a26d"
      },
      "outputs": [
        {
          "name": "stdout",
          "output_type": "stream",
          "text": [
            "sorted list by lambda = ['Ucup', 'Otong', 'Dudung']\n",
            "--------------------------------------------------\n",
            "[1, 2, 3, 4, 5, 6]\n"
          ]
        }
      ],
      "source": [
        "# sort pakai lambda\n",
        "\n",
        "data_list = [\"Otong\",\"Ucup\",\"Dudung\"]\n",
        "data_list.sort(key=lambda nama:len(nama))\n",
        "print(f\"sorted list by lambda = {data_list}\")\n",
        "\n",
        "print('-'*50)\n",
        "# filter\n",
        "\n",
        "data_angka = [1,2,3,4,5,6,7,8,9,10,11,12]\n",
        "\n",
        "data_angka_baru = list(filter(lambda x:x<7,data_angka))\n",
        "print(data_angka_baru)"
      ]
    },
    {
      "cell_type": "markdown",
      "metadata": {
        "id": "sftu9gIHeSlw"
      },
      "source": [
        "Anonymous Function"
      ]
    },
    {
      "cell_type": "code",
      "execution_count": null,
      "metadata": {
        "colab": {
          "base_uri": "https://localhost:8080/"
        },
        "id": "QF4Pr6A6eUkB",
        "outputId": "7d547384-d708-43d2-d12c-4127f29cad9d"
      },
      "outputs": [
        {
          "name": "stdout",
          "output_type": "stream",
          "text": [
            "pangkat2 = 25\n",
            "pangkat3 = 125\n",
            "pangkat bebas = 9\n"
          ]
        }
      ],
      "source": [
        "# dengan currying\n",
        "\n",
        "def pangkat(n):\n",
        "  return lambda angka : angka**n\n",
        "\n",
        "pangkat2 = pangkat(2)\n",
        "print(f\"pangkat2 = {pangkat2(5)}\")\n",
        "pangkat3 = pangkat(3)\n",
        "print(f\"pangkat3 = {pangkat3(5)}\")\n",
        "\n",
        "print(f\"pangkat bebas = {pangkat(2)(3)}\")"
      ]
    },
    {
      "cell_type": "markdown",
      "metadata": {
        "id": "cxtjT-43lJPj"
      },
      "source": [
        "Tentang Global dan Local Scope -> permasalahannya, variabel scope (yg di dalam function) biasanya tidak bisa dipakai untuk method yg di luar. Solusinya ...."
      ]
    },
    {
      "cell_type": "code",
      "execution_count": null,
      "metadata": {
        "colab": {
          "base_uri": "https://localhost:8080/"
        },
        "id": "OXvF8UB8lDn8",
        "outputId": "25194c4d-d6c7-4601-f61c-d1a25c866596"
      },
      "outputs": [
        {
          "name": "stdout",
          "output_type": "stream",
          "text": [
            "sebelum 0\n",
            "sesudah 10\n"
          ]
        }
      ],
      "source": [
        "# mengubah variabel global\n",
        "\n",
        "angka = 0\n",
        "\n",
        "def ubah_angka(nilai_baru):\n",
        "  global angka # pakai ini supaya bisa\n",
        "  angka = nilai_baru\n",
        "\n",
        "print(f\"sebelum {angka}\")\n",
        "ubah_angka(10)\n",
        "print(f\"sesudah {angka}\")"
      ]
    },
    {
      "cell_type": "markdown",
      "metadata": {
        "id": "LcE1miRem2b0"
      },
      "source": [
        "## Import Statement"
      ]
    },
    {
      "cell_type": "code",
      "execution_count": null,
      "metadata": {
        "colab": {
          "base_uri": "https://localhost:8080/"
        },
        "id": "7jci-Gl4m4Jy",
        "outputId": "c4d9c2dd-8d84-40e4-be26-e08bef2835d3"
      },
      "outputs": [
        {
          "name": "stdout",
          "output_type": "stream",
          "text": [
            "data count = Counter({'a': 3, 'd': 2, 'b': 1, 'c': 1})\n",
            "jumlah a = 3\n",
            "jumlah b = 1\n"
          ]
        }
      ],
      "source": [
        "from collections import Counter\n",
        "\n",
        "data = [\"a\",\"b\",\"c\",\"d\",\"a\",\"d\",\"a\"]\n",
        "data_count = Counter(data)\n",
        "\n",
        "print(f\"data count = {data_count}\")\n",
        "print(f\"jumlah a = {data_count['a']}\")\n",
        "print(f\"jumlah b = {data_count['b']}\")"
      ]
    },
    {
      "cell_type": "code",
      "execution_count": null,
      "metadata": {
        "colab": {
          "base_uri": "https://localhost:8080/"
        },
        "id": "okbUmHONrEJh",
        "outputId": "0744d646-791a-4d2f-8bce-fb9d054ef8e6"
      },
      "outputs": [
        {
          "name": "stdout",
          "output_type": "stream",
          "text": [
            "list_a = [1, 2, 3, 4]\n",
            "vector_a = [1 2 3 4]\n"
          ]
        }
      ],
      "source": [
        "import numpy as np\n",
        "\n",
        "list_a = [1,2,3,4]\n",
        "vector_a = np.array([1,2,3,4])\n",
        "\n",
        "print(f\"list_a = {list_a}\")\n",
        "print(f\"vector_a = {vector_a}\")"
      ]
    },
    {
      "cell_type": "markdown",
      "metadata": {
        "id": "uWpKDxzVgB7L"
      },
      "source": [
        "# 2 NOVEMBER 2023"
      ]
    },
    {
      "cell_type": "markdown",
      "metadata": {
        "id": "NMYdJFx_gF4H"
      },
      "source": [
        "## Numpy"
      ]
    },
    {
      "cell_type": "code",
      "execution_count": null,
      "metadata": {
        "colab": {
          "base_uri": "https://localhost:8080/"
        },
        "id": "cI3BmB1RgD_s",
        "outputId": "44ebf97b-7383-4016-e1f1-0bc7ac41c414"
      },
      "outputs": [
        {
          "name": "stdout",
          "output_type": "stream",
          "text": [
            "[1, 2, 3, 4]\n",
            "list_a = [1, 2, 3, 4]\n",
            "[1 2 3 4]\n",
            "vector_a = [1 2 3 4]\n",
            "dikuadratkan = [ 1  4  9 16]\n",
            "matrix b = \n",
            "[[1 2]\n",
            " [3 4]]\n",
            "matrix b^2 = \n",
            "[[ 1  4]\n",
            " [ 9 16]]\n",
            "zeros c = \n",
            "[[0. 0.]\n",
            " [0. 0.]]\n",
            "zeros c = \n",
            "[[1. 1.]\n",
            " [1. 1.]]\n",
            "PENJUMLAHAN MATRIX\n",
            "[[ 3.  7.]\n",
            " [13. 21.]]\n"
          ]
        }
      ],
      "source": [
        "import numpy as np\n",
        "\n",
        "list_a = [1,2,3,4]\n",
        "vector_a = np.array([1,2,3,4])\n",
        "\n",
        "print(list_a)\n",
        "print(f\"list_a = {list_a}\")\n",
        "\n",
        "print(vector_a)\n",
        "print(f\"vector_a = {vector_a}\")\n",
        "print(f\"dikuadratkan = {vector_a**2}\")\n",
        "\n",
        "# contoh lain\n",
        "matrix_b = np.array([(1,2),(3,4)])\n",
        "print(f\"matrix b = \\n{matrix_b}\")\n",
        "print(f\"matrix b^2 = \\n{matrix_b**2}\")\n",
        "\n",
        "# contoh zeros (meng-0 kan sisi matrix)\n",
        "\n",
        "zeros_c = np.zeros((2,2))\n",
        "print(f\"zeros c = \\n{zeros_c}\")\n",
        "\n",
        "# ones\n",
        "\n",
        "ones_d = np.ones((2,2))\n",
        "print(f\"zeros c = \\n{ones_d}\")\n",
        "\n",
        "print(\"PENJUMLAHAN MATRIX\")\n",
        "# penjumlahan matrix\n",
        "\n",
        "jumlah = matrix_b + matrix_b**2 + ones_d\n",
        "print(jumlah)"
      ]
    },
    {
      "cell_type": "markdown",
      "metadata": {
        "id": "KhT-c9lrkxGc"
      },
      "source": [
        "## Pygame"
      ]
    },
    {
      "cell_type": "code",
      "execution_count": null,
      "metadata": {
        "colab": {
          "base_uri": "https://localhost:8080/",
          "height": 250
        },
        "id": "p6sXuJuTk5Rf",
        "outputId": "797c18a0-ccd2-4f81-a8ac-78f2b1c85d0a"
      },
      "outputs": [
        {
          "ename": "KeyboardInterrupt",
          "evalue": "ignored",
          "output_type": "error",
          "traceback": [
            "\u001b[0;31m---------------------------------------------------------------------------\u001b[0m",
            "\u001b[0;31mKeyboardInterrupt\u001b[0m                         Traceback (most recent call last)",
            "\u001b[0;32m<ipython-input-11-f0d9bf6efeb4>\u001b[0m in \u001b[0;36m<cell line: 23>\u001b[0;34m()\u001b[0m\n\u001b[1;32m     29\u001b[0m     \u001b[0mwindow\u001b[0m\u001b[0;34m.\u001b[0m\u001b[0mfill\u001b[0m\u001b[0;34m(\u001b[0m\u001b[0;34m(\u001b[0m\u001b[0;36m255\u001b[0m\u001b[0;34m,\u001b[0m\u001b[0;36m255\u001b[0m\u001b[0;34m,\u001b[0m\u001b[0;36m255\u001b[0m\u001b[0;34m)\u001b[0m\u001b[0;34m)\u001b[0m\u001b[0;34m\u001b[0m\u001b[0;34m\u001b[0m\u001b[0m\n\u001b[1;32m     30\u001b[0m     \u001b[0;31m# render ke display\u001b[0m\u001b[0;34m\u001b[0m\u001b[0;34m\u001b[0m\u001b[0m\n\u001b[0;32m---> 31\u001b[0;31m     \u001b[0mpygame\u001b[0m\u001b[0;34m.\u001b[0m\u001b[0mdisplay\u001b[0m\u001b[0;34m.\u001b[0m\u001b[0mupdate\u001b[0m\u001b[0;34m(\u001b[0m\u001b[0;34m)\u001b[0m\u001b[0;34m\u001b[0m\u001b[0;34m\u001b[0m\u001b[0m\n\u001b[0m\u001b[1;32m     32\u001b[0m \u001b[0;34m\u001b[0m\u001b[0m\n\u001b[1;32m     33\u001b[0m \u001b[0mpygame\u001b[0m\u001b[0;34m.\u001b[0m\u001b[0mquit\u001b[0m\u001b[0;34m(\u001b[0m\u001b[0;34m)\u001b[0m\u001b[0;34m\u001b[0m\u001b[0;34m\u001b[0m\u001b[0m\n",
            "\u001b[0;31mKeyboardInterrupt\u001b[0m: "
          ]
        }
      ],
      "source": [
        "import pygame\n",
        "\n",
        "# init\n",
        "pygame.init()\n",
        "# variable running game\n",
        "isRun = True\n",
        "\n",
        "# membuat display surface object\n",
        "window = pygame.display.set_mode((500,500))\n",
        "\n",
        "# object game\n",
        "# posisi\n",
        "x = 250\n",
        "y = 250\n",
        "\n",
        "# ukuran\n",
        "panjang = 20\n",
        "lebar = 20\n",
        "\n",
        "# kecepatan gerak\n",
        "speed = 10\n",
        "\n",
        "while isRun:\n",
        "    for event in pygame.event.get():\n",
        "        if event.type == pygame.QUIT:\n",
        "            isRun = False\n",
        "\n",
        "    # update asset\n",
        "    window.fill((255,255,255))\n",
        "    # render ke display\n",
        "    pygame.display.update()\n",
        "\n",
        "pygame.quit()\n",
        "\n",
        "# user input, database input\n",
        "# update asset\n",
        "# render ke display"
      ]
    },
    {
      "cell_type": "markdown",
      "metadata": {
        "id": "pHAAwaYZyQMa"
      },
      "source": [
        "## __main__ sebagai gerbang program"
      ]
    },
    {
      "cell_type": "code",
      "execution_count": null,
      "metadata": {
        "colab": {
          "base_uri": "https://localhost:8080/"
        },
        "id": "CMz7cGP0yTYU",
        "outputId": "a27b73d5-211c-43a9-8d2a-a106ffa604fc"
      },
      "outputs": [
        {
          "name": "stdout",
          "output_type": "stream",
          "text": [
            "hasil tambah = 15\n"
          ]
        }
      ],
      "source": [
        "# fungsi main adalah untuk mendeklarasikan program utama\n",
        "\n",
        "def fungsi_tambah(a:int,b:int)->int:\n",
        "  return a+b\n",
        "\n",
        "# fungsi utama\n",
        "if __name__ == \"__main__\":\n",
        "  angka1 = 5\n",
        "  angka2 = 10\n",
        "  hasil = fungsi_tambah(angka1,angka2)\n",
        "  print(f\"hasil tambah = {hasil}\")"
      ]
    },
    {
      "cell_type": "markdown",
      "metadata": {
        "id": "BaUJV0h81Iqn"
      },
      "source": [
        "## Read External File"
      ]
    },
    {
      "cell_type": "code",
      "execution_count": 23,
      "metadata": {
        "colab": {
          "base_uri": "https://localhost:8080/"
        },
        "id": "7mPqR_kW1LNJ",
        "outputId": "4015daf4-2322-4a1b-9f46-78ea61f459b7"
      },
      "outputs": [
        {
          "name": "stdout",
          "output_type": "stream",
          "text": [
            "jon si jhonny\n",
            "[]\n",
            "apakah file sudah diclose : False\n",
            "apakah file sudah diclose : True\n",
            "\n",
            " ===  Membaca file txt dengan with ===\n",
            "jon si jhonnyapakah file sudah diclose : False\n",
            "apakah file sudah diclose : True\n"
          ]
        }
      ],
      "source": [
        "file = open(\"data_1.txt\",mode=\"r\")\n",
        "\n",
        "#print(f\"status read \" {file.readable()}\")\n",
        "#print(f\"status write \" {file.writeable()}\")\n",
        "\n",
        "# baca seluruh file\n",
        "print(file.read())\n",
        "\n",
        "# baca per baris\n",
        "print(file.readline(), end=\"\") # baca baris pertama\n",
        "print(file.readline(), end=\"\") # baca baris kedua\n",
        "\n",
        "# baca semua baris sebagai list\n",
        "print(file.readlines())\n",
        "\n",
        "print(f\"apakah file sudah diclose : {file.closed}\")\n",
        "file.close()\n",
        "print(f\"apakah file sudah diclose : {file.closed}\")\n",
        "\n",
        "# salah satu teknik membuka file di python\n",
        "\n",
        "print(\"\\n\",3*\"=\", \" Membaca file txt dengan with\", 3*\"=\")\n",
        "\n",
        "with open(\"data_1.txt\",mode=\"r\") as file:\n",
        "  content = file.readline()\n",
        "  print(content,end=\"\")\n",
        "  print(f\"apakah file sudah diclose : {file.closed}\")\n",
        "\n",
        "print(f\"apakah file sudah diclose : {file.closed}\")\n",
        "\n"
      ]
    },
    {
      "cell_type": "markdown",
      "metadata": {
        "id": "q-7ecL9xCb-B"
      },
      "source": [
        "## Write External Data"
      ]
    },
    {
      "cell_type": "markdown",
      "metadata": {
        "id": "nHwE0Nd9Cusr"
      },
      "source": []
    },
    {
      "cell_type": "code",
      "execution_count": 26,
      "metadata": {
        "id": "stb_gLt3CyQ6"
      },
      "outputs": [],
      "source": [
        "# 1. mode write\n",
        "\n",
        "with open(\"data_2.txt\",'w',encoding=\"utf-8\") as file:\n",
        "  file.write(\"anjay\\n\")\n",
        "\n",
        "# 2. mode append\n",
        "\n",
        "with open(\"data_2.txt\",'a',encoding=\"utf-8\") as file:\n",
        "  file.write(\"mabar\")\n",
        "\n",
        "# 3. mode r+\n",
        "\n",
        "with open(\"data_2.txt\",'r+',encoding=\"utf-8\") as file:\n",
        "  file.write(\"menambah dengan r+\") # menimpa file\n"
      ]
    },
    {
      "cell_type": "markdown",
      "metadata": {
        "id": "D-GJ7lgwi6C-"
      },
      "source": [
        "## Exception, Error, Try, Except"
      ]
    },
    {
      "cell_type": "code",
      "execution_count": 31,
      "metadata": {
        "colab": {
          "base_uri": "https://localhost:8080/"
        },
        "id": "wukvWpoKi_o8",
        "outputId": "ed525afe-003a-4608-9e4f-d05d4faddb9b"
      },
      "outputs": [
        {
          "name": "stdout",
          "output_type": "stream",
          "text": [
            "masukkan angka: 1\n",
            "hasil = 10.0\n"
          ]
        }
      ],
      "source": [
        "# contoh sederhana untuk menangkap exception\n",
        "from math import nan\n",
        "\n",
        "input_user = int(input(\"masukkan angka: \"))\n",
        "hasil = nan\n",
        "\n",
        "try:\n",
        "  hasil = 10/input_user\n",
        "except:\n",
        "  print(\"input tidak boleh 0\")\n",
        "\n",
        "print(f\"hasil = {hasil}\")"
      ]
    },
    {
      "cell_type": "code",
      "execution_count": 32,
      "metadata": {
        "colab": {
          "base_uri": "https://localhost:8080/"
        },
        "id": "JfnUaGhVkaN1",
        "outputId": "f2c5ed98-835b-4172-d41b-31a1330a48b5"
      },
      "outputs": [
        {
          "name": "stdout",
          "output_type": "stream",
          "text": [
            "masukan angka pembagi: 10\n",
            "hasil = 1.0\n",
            "lanjutkan (y/n)? y\n",
            "masukan angka pembagi: 0\n",
            "pembagi nol, silahkan masukkan input lagi!\n",
            "masukan angka pembagi: 10\n",
            "hasil = 1.0\n",
            "lanjutkan (y/n)? n\n",
            "Akhir dari program\n"
          ]
        }
      ],
      "source": [
        "# contoh di aplikasi\n",
        "while(True):\n",
        "  angka = int(input(\"masukan angka pembagi: \"))\n",
        "  try:\n",
        "    hasil = 10/angka\n",
        "    print(f\"hasil = {hasil}\")\n",
        "    is_done = input(\"lanjutkan (y/n)? \")\n",
        "    if is_done == \"n\":\n",
        "      break\n",
        "  except:\n",
        "    print(\"pembagi nol, silahkan masukkan input lagi!\")\n",
        "\n",
        "print(\"Akhir dari program\")"
      ]
    },
    {
      "cell_type": "code",
      "execution_count": 33,
      "metadata": {
        "colab": {
          "base_uri": "https://localhost:8080/"
        },
        "id": "Ce7cYaZ7muP4",
        "outputId": "4e2106f8-3547-4986-fc02-12ff5bb5b718"
      },
      "outputs": [
        {
          "name": "stdout",
          "output_type": "stream",
          "text": [
            "file data.txt tidak ditemukan, membuat file baru\n",
            "akhir dari program\n"
          ]
        }
      ],
      "source": [
        "# contoh aplikasi untuk membuat file data.txt\n",
        "\n",
        "try:\n",
        "  with open(\"data.txt\",'r') as file:\n",
        "    print(file.read())\n",
        "except:\n",
        "  print(\"file data.txt tidak ditemukan, membuat file baru\")\n",
        "  with open(\"data.txt\",'w',encoding='utf-8') as file:\n",
        "    file.write(\"file baru\")\n",
        "\n",
        "print(\"akhir dari program\")"
      ]
    },
    {
      "cell_type": "markdown",
      "metadata": {
        "id": "N6EtNkpAn4_G"
      },
      "source": [
        "contoh membuat exception"
      ]
    },
    {
      "cell_type": "code",
      "execution_count": 38,
      "metadata": {
        "colab": {
          "base_uri": "https://localhost:8080/",
          "height": 375
        },
        "id": "rJuePo20n7JY",
        "outputId": "ae95d200-a55b-47af-9d25-920f3a1cfeaf"
      },
      "outputs": [
        {
          "ename": "TypeError",
          "evalue": "ignored",
          "output_type": "error",
          "traceback": [
            "\u001b[0;31m---------------------------------------------------------------------------\u001b[0m",
            "\u001b[0;31mTypeError\u001b[0m                                 Traceback (most recent call last)",
            "\u001b[0;32m<ipython-input-38-987cb47ee5d6>\u001b[0m in \u001b[0;36m<cell line: 8>\u001b[0;34m()\u001b[0m\n\u001b[1;32m      6\u001b[0m   \u001b[0;32mreturn\u001b[0m \u001b[0ma\u001b[0m\u001b[0;34m+\u001b[0m\u001b[0mb\u001b[0m\u001b[0;34m\u001b[0m\u001b[0;34m\u001b[0m\u001b[0m\n\u001b[1;32m      7\u001b[0m \u001b[0;34m\u001b[0m\u001b[0m\n\u001b[0;32m----> 8\u001b[0;31m \u001b[0mprint\u001b[0m\u001b[0;34m(\u001b[0m\u001b[0mtambah\u001b[0m\u001b[0;34m(\u001b[0m\u001b[0;36m5\u001b[0m\u001b[0;34m,\u001b[0m\u001b[0;34m\"v\"\u001b[0m\u001b[0;34m)\u001b[0m\u001b[0;34m)\u001b[0m\u001b[0;34m\u001b[0m\u001b[0;34m\u001b[0m\u001b[0m\n\u001b[0m\u001b[1;32m      9\u001b[0m \u001b[0;34m\u001b[0m\u001b[0m\n\u001b[1;32m     10\u001b[0m \u001b[0;31m# akan keluar alert \"input harus angka\"\u001b[0m\u001b[0;34m\u001b[0m\u001b[0;34m\u001b[0m\u001b[0m\n",
            "\u001b[0;32m<ipython-input-38-987cb47ee5d6>\u001b[0m in \u001b[0;36mtambah\u001b[0;34m(a, b)\u001b[0m\n\u001b[1;32m      3\u001b[0m \u001b[0;32mdef\u001b[0m \u001b[0mtambah\u001b[0m\u001b[0;34m(\u001b[0m\u001b[0ma\u001b[0m\u001b[0;34m,\u001b[0m\u001b[0mb\u001b[0m\u001b[0;34m)\u001b[0m\u001b[0;34m:\u001b[0m\u001b[0;34m\u001b[0m\u001b[0;34m\u001b[0m\u001b[0m\n\u001b[1;32m      4\u001b[0m   \u001b[0;32mif\u001b[0m \u001b[0;32mnot\u001b[0m \u001b[0misinstance\u001b[0m\u001b[0;34m(\u001b[0m\u001b[0ma\u001b[0m\u001b[0;34m,\u001b[0m\u001b[0mNumber\u001b[0m\u001b[0;34m)\u001b[0m \u001b[0;32mor\u001b[0m \u001b[0;32mnot\u001b[0m \u001b[0misinstance\u001b[0m\u001b[0;34m(\u001b[0m\u001b[0mb\u001b[0m\u001b[0;34m,\u001b[0m\u001b[0mNumber\u001b[0m\u001b[0;34m)\u001b[0m\u001b[0;34m:\u001b[0m\u001b[0;34m\u001b[0m\u001b[0;34m\u001b[0m\u001b[0m\n\u001b[0;32m----> 5\u001b[0;31m     \u001b[0;32mraise\u001b[0m \u001b[0;34m\"input harus angka\"\u001b[0m\u001b[0;34m\u001b[0m\u001b[0;34m\u001b[0m\u001b[0m\n\u001b[0m\u001b[1;32m      6\u001b[0m   \u001b[0;32mreturn\u001b[0m \u001b[0ma\u001b[0m\u001b[0;34m+\u001b[0m\u001b[0mb\u001b[0m\u001b[0;34m\u001b[0m\u001b[0;34m\u001b[0m\u001b[0m\n\u001b[1;32m      7\u001b[0m \u001b[0;34m\u001b[0m\u001b[0m\n",
            "\u001b[0;31mTypeError\u001b[0m: exceptions must derive from BaseException"
          ]
        }
      ],
      "source": [
        "from numbers import Number\n",
        "\n",
        "def tambah(a,b):\n",
        "  if not isinstance(a,Number) or not isinstance(b,Number):\n",
        "    raise \"input harus angka\"\n",
        "  return a+b\n",
        "\n",
        "print(tambah(5,\"v\"))\n",
        "\n",
        "# akan keluar alert \"input harus angka\""
      ]
    },
    {
      "cell_type": "markdown",
      "metadata": {
        "id": "iIODGssWsZ4v"
      },
      "source": [
        "contoh lain cara print error"
      ]
    },
    {
      "cell_type": "code",
      "execution_count": 39,
      "metadata": {
        "colab": {
          "base_uri": "https://localhost:8080/"
        },
        "id": "bY950LgksjJb",
        "outputId": "6ad60190-d4c1-4f7e-cbd0-01c24ba007f6"
      },
      "outputs": [
        {
          "name": "stdout",
          "output_type": "stream",
          "text": [
            "division by zero\n"
          ]
        }
      ],
      "source": [
        "angka = 0\n",
        "\n",
        "try:\n",
        "  hasil = 10/angka\n",
        "except ZeroDivisionError as error_message:\n",
        "  print(error_message)"
      ]
    }
  ],
  "metadata": {
    "colab": {
      "authorship_tag": "ABX9TyOrA2grQ7Er3GBcwcmDMTcP",
      "include_colab_link": true,
      "provenance": []
    },
    "kernelspec": {
      "display_name": "Python 3",
      "name": "python3"
    },
    "language_info": {
      "codemirror_mode": {
        "name": "ipython",
        "version": 3
      },
      "file_extension": ".py",
      "mimetype": "text/x-python",
      "name": "python",
      "nbconvert_exporter": "python",
      "pygments_lexer": "ipython3",
      "version": "3.11.6"
    }
  },
  "nbformat": 4,
  "nbformat_minor": 0
}
