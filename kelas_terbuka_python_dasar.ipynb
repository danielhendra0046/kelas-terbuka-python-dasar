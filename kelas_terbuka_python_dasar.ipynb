{
  "cells": [
    {
      "cell_type": "markdown",
      "metadata": {
        "id": "view-in-github",
        "colab_type": "text"
      },
      "source": [
        "<a href=\"https://colab.research.google.com/github/danielhendra0046/kelas-terbuka-python-dasar/blob/main/kelas_terbuka_python_dasar.ipynb\" target=\"_parent\"><img src=\"https://colab.research.google.com/assets/colab-badge.svg\" alt=\"Open In Colab\"/></a>"
      ]
    },
    {
      "cell_type": "markdown",
      "metadata": {
        "id": "vz6pLoQs8sRg"
      },
      "source": [
        "# 26 OKTOBER 2023"
      ]
    },
    {
      "cell_type": "markdown",
      "metadata": {
        "id": "R1PJ8ydz0ts0"
      },
      "source": [
        "Casting Tipe Data (Mengubah tipe data)"
      ]
    },
    {
      "cell_type": "code",
      "execution_count": null,
      "metadata": {
        "colab": {
          "base_uri": "https://localhost:8080/"
        },
        "id": "Th-WhMBznJg_",
        "outputId": "4182d9cf-a796-4149-d3c0-ea05ce0dd4a3"
      },
      "outputs": [
        {
          "name": "stdout",
          "output_type": "stream",
          "text": [
            "data =  9 ,type = <class 'int'>\n",
            "data =  9.0 ,type = <class 'float'>\n",
            "data =  9 ,type = <class 'str'>\n",
            "data =  True ,type = <class 'bool'>\n"
          ]
        }
      ],
      "source": [
        "data_int = 9\n",
        "print(\"data = \", data_int, \",type =\", type(data_int))\n",
        "\n",
        "data_float = float(data_int)\n",
        "data_str = str(data_int)\n",
        "data_bool = bool(data_int) # akan false jika nilai int = 0\n",
        "\n",
        "print(\"data = \", data_float, \",type =\", type(data_float))\n",
        "print(\"data = \", data_str, \",type =\", type(data_str))\n",
        "print(\"data = \", data_bool, \",type =\", type(data_bool))"
      ]
    },
    {
      "cell_type": "markdown",
      "metadata": {
        "id": "oRQ36mVS73iL"
      },
      "source": [
        "Input data"
      ]
    },
    {
      "cell_type": "code",
      "execution_count": null,
      "metadata": {
        "colab": {
          "base_uri": "https://localhost:8080/"
        },
        "id": "oeF1LndN3G1s",
        "outputId": "7f58df6a-a978-414c-df30-e7d7f41f900e"
      },
      "outputs": [
        {
          "name": "stdout",
          "output_type": "stream",
          "text": [
            "Masukkan data: haha\n",
            "data =  haha ,type = <class 'str'>\n",
            "Masukkan data: 15.2\n",
            "Masukkan data: 10\n",
            "data =  10 ,type = <class 'int'>\n",
            "Masukkan nilai boolean: 1\n",
            "data =  True ,type = <class 'bool'>\n"
          ]
        }
      ],
      "source": [
        "# data yang dimasukkan pasti jenisnya string\n",
        "data = input(\"Masukkan data: \")\n",
        "\n",
        "print(\"data = \", data, \",type =\", type(data))\n",
        "\n",
        "# jika mau melakukan casting, begini caranya\n",
        "angka = float(input(\"Masukkan data: \"))\n",
        "angka = int(input(\"Masukkan data: \"))\n",
        "\n",
        "\n",
        "print(\"data = \", angka, \",type =\", type(angka))\n",
        "\n",
        "# bagaimana dengan boolean\n",
        "biner = bool(int(input(\"Masukkan nilai boolean: \")))\n",
        "\n",
        "print(\"data = \", biner, \",type =\", type(biner))"
      ]
    },
    {
      "cell_type": "markdown",
      "metadata": {
        "id": "ahDbrfl5BsKA"
      },
      "source": [
        "Perhitungan sederhana: Konversi Suhu"
      ]
    },
    {
      "cell_type": "code",
      "execution_count": null,
      "metadata": {
        "colab": {
          "base_uri": "https://localhost:8080/",
          "height": 435
        },
        "id": "Hj3vn4qaD4Bf",
        "outputId": "e682f53c-1b2a-4d01-ba17-ab104257bc17"
      },
      "outputs": [
        {
          "name": "stdout",
          "output_type": "stream",
          "text": [
            "\n",
            "PROGRAM KONVERSI TEMPERATUR\n",
            "\n"
          ]
        },
        {
          "ename": "KeyboardInterrupt",
          "evalue": "ignored",
          "output_type": "error",
          "traceback": [
            "\u001b[0;31m---------------------------------------------------------------------------\u001b[0m",
            "\u001b[0;31mKeyboardInterrupt\u001b[0m                         Traceback (most recent call last)",
            "\u001b[0;32m<ipython-input-1-8cd84c49105e>\u001b[0m in \u001b[0;36m<cell line: 3>\u001b[0;34m()\u001b[0m\n\u001b[1;32m      1\u001b[0m \u001b[0mprint\u001b[0m\u001b[0;34m(\u001b[0m\u001b[0;34m\"\\nPROGRAM KONVERSI TEMPERATUR\\n\"\u001b[0m\u001b[0;34m)\u001b[0m\u001b[0;34m\u001b[0m\u001b[0;34m\u001b[0m\u001b[0m\n\u001b[1;32m      2\u001b[0m \u001b[0;34m\u001b[0m\u001b[0m\n\u001b[0;32m----> 3\u001b[0;31m \u001b[0mcelcius\u001b[0m \u001b[0;34m=\u001b[0m \u001b[0mfloat\u001b[0m\u001b[0;34m(\u001b[0m\u001b[0minput\u001b[0m\u001b[0;34m(\u001b[0m\u001b[0;34m\"Masukkan suhu dalam celcius : \"\u001b[0m\u001b[0;34m)\u001b[0m\u001b[0;34m)\u001b[0m\u001b[0;34m\u001b[0m\u001b[0;34m\u001b[0m\u001b[0m\n\u001b[0m\u001b[1;32m      4\u001b[0m \u001b[0mprint\u001b[0m\u001b[0;34m(\u001b[0m\u001b[0;34m\"suhu adalah \"\u001b[0m\u001b[0;34m,\u001b[0m \u001b[0mcelcius\u001b[0m\u001b[0;34m,\u001b[0m \u001b[0;34m\"Celcius\"\u001b[0m\u001b[0;34m)\u001b[0m\u001b[0;34m\u001b[0m\u001b[0;34m\u001b[0m\u001b[0m\n",
            "\u001b[0;32m/usr/local/lib/python3.10/dist-packages/ipykernel/kernelbase.py\u001b[0m in \u001b[0;36mraw_input\u001b[0;34m(self, prompt)\u001b[0m\n\u001b[1;32m    849\u001b[0m                 \u001b[0;34m\"raw_input was called, but this frontend does not support input requests.\"\u001b[0m\u001b[0;34m\u001b[0m\u001b[0;34m\u001b[0m\u001b[0m\n\u001b[1;32m    850\u001b[0m             )\n\u001b[0;32m--> 851\u001b[0;31m         return self._input_request(str(prompt),\n\u001b[0m\u001b[1;32m    852\u001b[0m             \u001b[0mself\u001b[0m\u001b[0;34m.\u001b[0m\u001b[0m_parent_ident\u001b[0m\u001b[0;34m,\u001b[0m\u001b[0;34m\u001b[0m\u001b[0;34m\u001b[0m\u001b[0m\n\u001b[1;32m    853\u001b[0m             \u001b[0mself\u001b[0m\u001b[0;34m.\u001b[0m\u001b[0m_parent_header\u001b[0m\u001b[0;34m,\u001b[0m\u001b[0;34m\u001b[0m\u001b[0;34m\u001b[0m\u001b[0m\n",
            "\u001b[0;32m/usr/local/lib/python3.10/dist-packages/ipykernel/kernelbase.py\u001b[0m in \u001b[0;36m_input_request\u001b[0;34m(self, prompt, ident, parent, password)\u001b[0m\n\u001b[1;32m    893\u001b[0m             \u001b[0;32mexcept\u001b[0m \u001b[0mKeyboardInterrupt\u001b[0m\u001b[0;34m:\u001b[0m\u001b[0;34m\u001b[0m\u001b[0;34m\u001b[0m\u001b[0m\n\u001b[1;32m    894\u001b[0m                 \u001b[0;31m# re-raise KeyboardInterrupt, to truncate traceback\u001b[0m\u001b[0;34m\u001b[0m\u001b[0;34m\u001b[0m\u001b[0m\n\u001b[0;32m--> 895\u001b[0;31m                 \u001b[0;32mraise\u001b[0m \u001b[0mKeyboardInterrupt\u001b[0m\u001b[0;34m(\u001b[0m\u001b[0;34m\"Interrupted by user\"\u001b[0m\u001b[0;34m)\u001b[0m \u001b[0;32mfrom\u001b[0m \u001b[0;32mNone\u001b[0m\u001b[0;34m\u001b[0m\u001b[0;34m\u001b[0m\u001b[0m\n\u001b[0m\u001b[1;32m    896\u001b[0m             \u001b[0;32mexcept\u001b[0m \u001b[0mException\u001b[0m \u001b[0;32mas\u001b[0m \u001b[0me\u001b[0m\u001b[0;34m:\u001b[0m\u001b[0;34m\u001b[0m\u001b[0;34m\u001b[0m\u001b[0m\n\u001b[1;32m    897\u001b[0m                 \u001b[0mself\u001b[0m\u001b[0;34m.\u001b[0m\u001b[0mlog\u001b[0m\u001b[0;34m.\u001b[0m\u001b[0mwarning\u001b[0m\u001b[0;34m(\u001b[0m\u001b[0;34m\"Invalid Message:\"\u001b[0m\u001b[0;34m,\u001b[0m \u001b[0mexc_info\u001b[0m\u001b[0;34m=\u001b[0m\u001b[0;32mTrue\u001b[0m\u001b[0;34m)\u001b[0m\u001b[0;34m\u001b[0m\u001b[0;34m\u001b[0m\u001b[0m\n",
            "\u001b[0;31mKeyboardInterrupt\u001b[0m: Interrupted by user"
          ]
        }
      ],
      "source": [
        "print(\"\\nPROGRAM KONVERSI TEMPERATUR\\n\")\n",
        "\n",
        "celcius = float(input(\"Masukkan suhu dalam celcius : \"))\n",
        "print(\"suhu adalah \", celcius, \"Celcius\")"
      ]
    },
    {
      "cell_type": "markdown",
      "metadata": {
        "id": "OlPjVZID8oRH"
      },
      "source": [
        "# 27 OKTOBER 2023"
      ]
    },
    {
      "cell_type": "markdown",
      "metadata": {
        "id": "8imTEfH-5qCl"
      },
      "source": [
        "## tentang campuran amburadul wkwk"
      ]
    },
    {
      "cell_type": "markdown",
      "metadata": {
        "id": "vkzt88eZ8XbG"
      },
      "source": [
        "Catatan:\n",
        "\n",
        "untuk is dan is not digunakan dalam antarsesama operasi identitas\n",
        "untuk perbandingan operasi identitas dgn integer/float digunakan \"==\""
      ]
    },
    {
      "cell_type": "markdown",
      "metadata": {
        "id": "zvhSS2rDRiAN"
      },
      "source": [
        "============================================"
      ]
    },
    {
      "cell_type": "markdown",
      "metadata": {
        "id": "Uj0uuC0ZRkOq"
      },
      "source": [
        "Di bawah ini latihan soal"
      ]
    },
    {
      "cell_type": "code",
      "execution_count": null,
      "metadata": {
        "colab": {
          "base_uri": "https://localhost:8080/"
        },
        "id": "6bdXWiDg8v8Z",
        "outputId": "6c63ccba-4e91-4953-9a44-49e488a7b6ae"
      },
      "outputs": [
        {
          "name": "stdout",
          "output_type": "stream",
          "text": [
            "GABUNGAN\n",
            "Masukkan Data : 4\n",
            "True\n",
            "False\n",
            "Answer : True\n"
          ]
        }
      ],
      "source": [
        "print(\"GABUNGAN\")\n",
        "InputData = float(input(\"Masukkan Data : \"))\n",
        "\n",
        "Angka1 = (InputData >= 0 and InputData <= 5)\n",
        "print(Angka1)\n",
        "\n",
        "Angka2 = (InputData >= 8 and InputData <= 11)\n",
        "print(Angka2)\n",
        "\n",
        "Hasilnya = Angka1 or Angka2\n",
        "print(\"Answer :\", Hasilnya)"
      ]
    },
    {
      "cell_type": "markdown",
      "metadata": {
        "id": "SLvIjlvpOk97"
      },
      "source": [
        "Operator Bitwise"
      ]
    },
    {
      "cell_type": "markdown",
      "metadata": {
        "id": "cpQz47kiOmuK"
      },
      "source": [
        "Bitwise sebenarnya tidak jauh berbeda dengan operator lainnya. Selengkapnya lebih baik lihat videonya kelas terbuka saja hehehehe. Antara lain, operator bitwise: ^, ~, |, &, >>, <<"
      ]
    },
    {
      "cell_type": "markdown",
      "metadata": {
        "id": "u4w8MJyTgIq7"
      },
      "source": [
        "## manipulasi string"
      ]
    },
    {
      "cell_type": "markdown",
      "metadata": {
        "id": "CjQcHLgUOxlf"
      },
      "source": [
        "Cara mengubah operator dalam bentuk methods\n",
        "\n",
        "mengubah case dari string, mengubah semua ke upper case"
      ]
    },
    {
      "cell_type": "code",
      "execution_count": null,
      "metadata": {
        "colab": {
          "base_uri": "https://localhost:8080/"
        },
        "id": "AJHn7m3-f86d",
        "outputId": "a20cc033-6632-40a2-bb17-9211816be200"
      },
      "outputs": [
        {
          "name": "stdout",
          "output_type": "stream",
          "text": [
            "normal = bro!\n",
            "upper = BRO!\n"
          ]
        }
      ],
      "source": [
        "salam = \"bro!\"\n",
        "print(\"normal = \" + salam)\n",
        "salam = salam.upper()\n",
        "print(\"upper = \" + salam)"
      ]
    },
    {
      "cell_type": "markdown",
      "metadata": {
        "id": "k-gAZEiQ4cjY"
      },
      "source": [
        "untuk pengecekan string, ada beberapa function, antara lain:"
      ]
    },
    {
      "cell_type": "code",
      "execution_count": null,
      "metadata": {
        "id": "90_edJoS4sng"
      },
      "outputs": [],
      "source": [
        "# islower() <- untuk pengecekan apakah semua huruf kecil\n",
        "# isupper() <- untuk pengecekan apakah semua huruf besar\n",
        "# isalpha() <- untuk mengecek apakah semuanya huruf\n",
        "# isalnum() <- huruf dan angka\n",
        "# isdecimal() <- angka saja\n",
        "# isspace() <- spasi, tab, newline \\n\n",
        "# istitle() <- semua kata dimulai dengan huruf besar"
      ]
    },
    {
      "cell_type": "markdown",
      "metadata": {
        "id": "RhOPl5r96lxN"
      },
      "source": [
        "ada juga penggunaan startswith() dan endswith()"
      ]
    },
    {
      "cell_type": "code",
      "execution_count": null,
      "metadata": {
        "colab": {
          "base_uri": "https://localhost:8080/"
        },
        "id": "kdC6medN6q-h",
        "outputId": "7f93ac40-81d4-4a2a-f450-e2bbe38e6e8e"
      },
      "outputs": [
        {
          "name": "stdout",
          "output_type": "stream",
          "text": [
            "start = True\n"
          ]
        }
      ],
      "source": [
        "cek_start = \"Sangjangnim Oppa\".startswith(\"Sangjangnim\")\n",
        "print(\"start = \" + str(cek_start))"
      ]
    },
    {
      "cell_type": "markdown",
      "metadata": {
        "id": "pa_d7I028JmU"
      },
      "source": [
        "penggabungan komponen join() split()"
      ]
    },
    {
      "cell_type": "code",
      "execution_count": null,
      "metadata": {
        "colab": {
          "base_uri": "https://localhost:8080/"
        },
        "id": "1CMUOCsa8Nd-",
        "outputId": "30a9658a-eddc-4ec4-cb86-b1977cce96a8"
      },
      "outputs": [
        {
          "name": "stdout",
          "output_type": "stream",
          "text": [
            "['aku', 'sayang', 'kamu']\n",
            "aku,sayang,kamu\n"
          ]
        }
      ],
      "source": [
        "pisah = ['aku', 'sayang', 'kamu']\n",
        "gabungan = ','.join(pisah)\n",
        "print(pisah)\n",
        "print(gabungan)"
      ]
    },
    {
      "cell_type": "code",
      "execution_count": null,
      "metadata": {
        "colab": {
          "base_uri": "https://localhost:8080/"
        },
        "id": "I6UT6D4_88hl",
        "outputId": "9e44c7d4-6d73-4fde-ede9-04f654d43647"
      },
      "outputs": [
        {
          "name": "stdout",
          "output_type": "stream",
          "text": [
            "['aku', 'sayang', 'kamu']\n"
          ]
        }
      ],
      "source": [
        "gabungan = \"akuehmsayangehmkamu\"\n",
        "print(gabungan.split('ehm'))"
      ]
    },
    {
      "cell_type": "markdown",
      "metadata": {
        "id": "GcW4AOtL9V0c"
      },
      "source": [
        "alokasi karakter rjust(), ljust(), center(), strip()"
      ]
    },
    {
      "cell_type": "code",
      "execution_count": null,
      "metadata": {
        "colab": {
          "base_uri": "https://localhost:8080/"
        },
        "id": "bau_QzQw9nbS",
        "outputId": "b13a96c9-414c-432c-f4d6-2ab54c3d91bf"
      },
      "outputs": [
        {
          "name": "stdout",
          "output_type": "stream",
          "text": [
            "'      Halo'\n"
          ]
        }
      ],
      "source": [
        "kanan = \"Halo\".rjust(10)\n",
        "print(\"'\"+kanan+\"'\")"
      ]
    },
    {
      "cell_type": "code",
      "execution_count": null,
      "metadata": {
        "colab": {
          "base_uri": "https://localhost:8080/"
        },
        "id": "e6fEYrdF9x4j",
        "outputId": "f08beef1-e084-4e43-b42c-47d931f3077a"
      },
      "outputs": [
        {
          "name": "stdout",
          "output_type": "stream",
          "text": [
            "'.......tengah.......'\n",
            "'tengah'\n"
          ]
        }
      ],
      "source": [
        "tengah = \"tengah\".center(20,\".\")\n",
        "print(\"'\"+tengah+\"'\")\n",
        "\n",
        "tengah = tengah.strip(\".\")\n",
        "print(\"'\"+tengah+\"'\")"
      ]
    },
    {
      "cell_type": "markdown",
      "metadata": {
        "id": "dwKY_ZXsYYQe"
      },
      "source": [
        "## Format String"
      ]
    },
    {
      "cell_type": "markdown",
      "metadata": {
        "id": "xYtT7ieqYrey"
      },
      "source": [
        "ini cara coding string, tidak hanya bisa digunakan untuk string. tapi untuk angka, boolean juga bisa"
      ]
    },
    {
      "cell_type": "code",
      "execution_count": null,
      "metadata": {
        "colab": {
          "base_uri": "https://localhost:8080/"
        },
        "id": "apfCH7e4Ya6P",
        "outputId": "f8dfbe80-6576-4d28-905d-a73fe9f22aba"
      },
      "outputs": [
        {
          "output_type": "stream",
          "name": "stdout",
          "text": [
            "hello ucup\n",
            "bilangan bulat = 15\n",
            "bilangan ribuan = 2,000,000\n",
            "desimal = 2005.543\n",
            "desimal = 002005.543\n",
            "minus = -10\n",
            "plus = +10\n",
            "persen = 4.50%\n",
            "harga total = 50,000\n",
            "binary = 0b11111111\n",
            "octal = 0o377\n",
            "hex = 0xff\n"
          ]
        }
      ],
      "source": [
        "# string\n",
        "\n",
        "nama = \"ucup\"\n",
        "format_str = f\"hello {nama}\"\n",
        "\n",
        "print(format_str)\n",
        "\n",
        "# bilangan bulat\n",
        "angka = 15\n",
        "format_str = f\"bilangan bulat = {angka:d}\"\n",
        "print(format_str)\n",
        "\n",
        "# bilangan ribuan\n",
        "angka = 2000000\n",
        "format_str = f\"bilangan ribuan = {angka:,}\"\n",
        "print(format_str)\n",
        "\n",
        "# bilangan desimal\n",
        "angka = 2005.54321\n",
        "format_str = f\"desimal = {angka:.3f}\"\n",
        "print(format_str)\n",
        "\n",
        "# menampilkan leading zero\n",
        "angka = 2005.54321\n",
        "format_str = f\"desimal = {angka:010.3f}\"\n",
        "print(format_str)\n",
        "\n",
        "\n",
        "# menampilkan tanda + atau -\n",
        "angka_minus = -10\n",
        "angka_plus = 10\n",
        "format_minus = f\"minus = {angka_minus:+d}\"\n",
        "format_plus = f\"plus = {angka_plus:+d}\"\n",
        "\n",
        "print(format_minus)\n",
        "print(format_plus)\n",
        "\n",
        "# memformat persen\n",
        "presentase = 0.045\n",
        "format_persen = f\"persen = {presentase:.2%}\"\n",
        "\n",
        "print(format_persen)\n",
        "\n",
        "# melakukan operasi aritmetika di dalam placeholder\n",
        "harga = 10000\n",
        "jumlah = 5\n",
        "\n",
        "format_string = f\"harga total = {harga*jumlah:,}\"\n",
        "print(format_string)\n",
        "\n",
        "# format angka lain (binary, octal, hexadecimal)\n",
        "\n",
        "angka = 255\n",
        "format_binary = f\"binary = {bin(angka)}\"\n",
        "format_octal = f\"octal = {oct(angka)}\"\n",
        "format_hex = f\"hex = {hex(angka)}\"\n",
        "\n",
        "print(format_binary)\n",
        "print(format_octal)\n",
        "print(format_hex)"
      ]
    },
    {
      "cell_type": "markdown",
      "source": [
        "# 28 OKTOBER 2023"
      ],
      "metadata": {
        "id": "GaO7qqxWnWpn"
      }
    },
    {
      "cell_type": "markdown",
      "source": [
        "## String width alignment"
      ],
      "metadata": {
        "id": "FIGumT-mnawm"
      }
    },
    {
      "cell_type": "markdown",
      "source": [
        "cara menambahkan enter (string multiline)"
      ],
      "metadata": {
        "id": "A5R6zOXPoV9r"
      }
    },
    {
      "cell_type": "code",
      "source": [
        "# cara menambahkan enter dengan menggunakan \\n\n",
        "\n",
        "data_nama = \"Ucup Surucup\"\n",
        "data_umur = 17\n",
        "data_tinggi = 150.1\n",
        "data_nomor_sepatu = 44\n",
        "\n",
        "data_string = f\"nama = {data_nama}, \\numur = {data_umur}, \\ntinggi = {data_tinggi}, \\nsepatu = {data_nomor_sepatu}\"\n",
        "print(\"\\n\"+5*\"=\"+\"Data String\"+5*\"=\")\n",
        "print(data_string)\n"
      ],
      "metadata": {
        "colab": {
          "base_uri": "https://localhost:8080/"
        },
        "id": "Q4CRBgTEngTB",
        "outputId": "47760338-7b7a-440c-a817-a98be3d86e54"
      },
      "execution_count": null,
      "outputs": [
        {
          "output_type": "stream",
          "name": "stdout",
          "text": [
            "\n",
            "=====Data String=====\n",
            "nama = Ucup Surucup, \n",
            "umur = 17, \n",
            "tinggi = 150.1, \n",
            "sepatu = 44\n"
          ]
        }
      ]
    },
    {
      "cell_type": "code",
      "source": [
        "# cara menambahkan enter dengan menggunakan tanda \"\"\"\n",
        "\n",
        "data_nama = \"Ucup Surucup\"\n",
        "data_umur = 17\n",
        "data_tinggi = 150.1\n",
        "data_nomor_sepatu = 44\n",
        "\n",
        "data_string = f\"\"\"\n",
        "nama = {data_nama}\n",
        "umur = {data_umur}\n",
        "tinggi = {data_tinggi}\n",
        "sepatu = {data_nomor_sepatu}\n",
        "\"\"\"\n",
        "\n",
        "print(\"\\n\"+5*\"=\"+\"Data String\"+5*\"=\")\n",
        "print(data_string)"
      ],
      "metadata": {
        "colab": {
          "base_uri": "https://localhost:8080/"
        },
        "id": "lm0mL_JjrV8U",
        "outputId": "290201d0-1ea5-4a4d-bc4c-2dbcf39f4857"
      },
      "execution_count": null,
      "outputs": [
        {
          "output_type": "stream",
          "name": "stdout",
          "text": [
            "\n",
            "=====Data String=====\n",
            "\n",
            "nama = Ucup Surucup\n",
            "umur = 17\n",
            "tinggi = 150.1\n",
            "sepatu = 44\n",
            "\n"
          ]
        }
      ]
    },
    {
      "cell_type": "markdown",
      "source": [
        "## Date and Time"
      ],
      "metadata": {
        "id": "gyCVJ9tBo_yg"
      }
    },
    {
      "cell_type": "code",
      "source": [
        "import datetime as dt\n",
        "\n",
        "hari_ini = dt.date.today()\n",
        "print(hari_ini)\n",
        "\n",
        "tanggal = dt.date(2005,10,10)\n",
        "print(tanggal)"
      ],
      "metadata": {
        "colab": {
          "base_uri": "https://localhost:8080/"
        },
        "id": "t22PrD_oo842",
        "outputId": "38ba0aac-0f12-45e2-fe95-58cf66438c24"
      },
      "execution_count": 4,
      "outputs": [
        {
          "output_type": "stream",
          "name": "stdout",
          "text": [
            "2023-10-28\n",
            "2005-10-10\n"
          ]
        }
      ]
    },
    {
      "cell_type": "code",
      "source": [
        "import datetime as dt\n",
        "\n",
        "print(\"Silahkan masukkan tanggal, \\nbulan dan tahun lahir anda: \")\n",
        "tanggal = int(input(\"Tanggal \\t: \"))\n",
        "bulan = int(input(\"Bulan \\t\\t: \"))\n",
        "tahun = int(input(\"Tahun \\t\\t: \"))\n",
        "\n",
        "tanggal_lahir = dt.date(tahun,bulan,tanggal)\n",
        "print(f\"tanggal lahir anda adalah : {tanggal_lahir}\")\n",
        "\n",
        "hari_ini = dt.date.today()\n",
        "print(f\"hari ini tanggal: {hari_ini}\")\n",
        "umur_hari = hari_ini - tanggal_lahir\n",
        "umur_tahun = umur_hari.days // 365\n",
        "umur_bulan_sisa = (umur_hari.days % 365) // 30\n",
        "\n",
        "print(f\"Hari nya adalah : {tanggal_lahir:%A}\")\n",
        "print(f\"Umur anda adalah : {umur_tahun} tahun, {umur_bulan_sisa} bulan\")"
      ],
      "metadata": {
        "colab": {
          "base_uri": "https://localhost:8080/"
        },
        "id": "IMwVbWGsr0SL",
        "outputId": "03be5fce-08a9-498f-bfb6-6e4ddd051599"
      },
      "execution_count": 14,
      "outputs": [
        {
          "output_type": "stream",
          "name": "stdout",
          "text": [
            "Silahkan masukkan tanggal, \n",
            "bulan dan tahun lahir anda: \n",
            "Tanggal \t: 07\n",
            "Bulan \t\t: 08\n",
            "Tahun \t\t: 2000\n",
            "tanggal lahir ada adalah : 2000-08-07\n",
            "hari ini tanggal: 2023-10-28\n",
            "Hari nya adalah : Monday\n",
            "Umur anda adalah : 23 tahun, 2 bulan\n"
          ]
        }
      ]
    },
    {
      "cell_type": "code",
      "source": [],
      "metadata": {
        "id": "-Fkpj4aEvZlj"
      },
      "execution_count": null,
      "outputs": []
    },
    {
      "cell_type": "markdown",
      "source": [
        "## Pengkondisian"
      ],
      "metadata": {
        "id": "e_OJxvRBzv7D"
      }
    },
    {
      "cell_type": "markdown",
      "source": [
        "If and Else Statement"
      ],
      "metadata": {
        "id": "6anmHzIczzLY"
      }
    },
    {
      "cell_type": "code",
      "source": [],
      "metadata": {
        "id": "BrgRSMEE0a0F"
      },
      "execution_count": null,
      "outputs": []
    }
  ],
  "metadata": {
    "colab": {
      "provenance": [],
      "authorship_tag": "ABX9TyPXiBcnPe8aPY5qlCc1RC7j",
      "include_colab_link": true
    },
    "kernelspec": {
      "display_name": "Python 3",
      "name": "python3"
    },
    "language_info": {
      "name": "python"
    }
  },
  "nbformat": 4,
  "nbformat_minor": 0
}