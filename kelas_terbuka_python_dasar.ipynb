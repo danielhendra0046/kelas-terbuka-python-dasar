{
  "nbformat": 4,
  "nbformat_minor": 0,
  "metadata": {
    "colab": {
      "provenance": [],
      "authorship_tag": "ABX9TyNXB6hurH1ZX8YSdwq54CO0",
      "include_colab_link": true
    },
    "kernelspec": {
      "name": "python3",
      "display_name": "Python 3"
    },
    "language_info": {
      "name": "python"
    }
  },
  "cells": [
    {
      "cell_type": "markdown",
      "metadata": {
        "id": "view-in-github",
        "colab_type": "text"
      },
      "source": [
        "<a href=\"https://colab.research.google.com/github/danielhendra0046/kelas-terbuka-python-dasar/blob/main/kelas_terbuka_python_dasar.ipynb\" target=\"_parent\"><img src=\"https://colab.research.google.com/assets/colab-badge.svg\" alt=\"Open In Colab\"/></a>"
      ]
    },
    {
      "cell_type": "markdown",
      "source": [
        "# 26 OKTOBER 2023"
      ],
      "metadata": {
        "id": "vz6pLoQs8sRg"
      }
    },
    {
      "cell_type": "markdown",
      "source": [
        "Casting Tipe Data (Mengubah tipe data)"
      ],
      "metadata": {
        "id": "R1PJ8ydz0ts0"
      }
    },
    {
      "cell_type": "code",
      "execution_count": null,
      "metadata": {
        "colab": {
          "base_uri": "https://localhost:8080/"
        },
        "id": "Th-WhMBznJg_",
        "outputId": "4182d9cf-a796-4149-d3c0-ea05ce0dd4a3"
      },
      "outputs": [
        {
          "output_type": "stream",
          "name": "stdout",
          "text": [
            "data =  9 ,type = <class 'int'>\n",
            "data =  9.0 ,type = <class 'float'>\n",
            "data =  9 ,type = <class 'str'>\n",
            "data =  True ,type = <class 'bool'>\n"
          ]
        }
      ],
      "source": [
        "data_int = 9\n",
        "print(\"data = \", data_int, \",type =\", type(data_int))\n",
        "\n",
        "data_float = float(data_int)\n",
        "data_str = str(data_int)\n",
        "data_bool = bool(data_int) # akan false jika nilai int = 0\n",
        "\n",
        "print(\"data = \", data_float, \",type =\", type(data_float))\n",
        "print(\"data = \", data_str, \",type =\", type(data_str))\n",
        "print(\"data = \", data_bool, \",type =\", type(data_bool))"
      ]
    },
    {
      "cell_type": "markdown",
      "source": [
        "Input data"
      ],
      "metadata": {
        "id": "oRQ36mVS73iL"
      }
    },
    {
      "cell_type": "code",
      "source": [
        "# data yang dimasukkan pasti jenisnya string\n",
        "data = input(\"Masukkan data: \")\n",
        "\n",
        "print(\"data = \", data, \",type =\", type(data))\n",
        "\n",
        "# jika mau melakukan casting, begini caranya\n",
        "angka = float(input(\"Masukkan data: \"))\n",
        "angka = int(input(\"Masukkan data: \"))\n",
        "\n",
        "\n",
        "print(\"data = \", angka, \",type =\", type(angka))\n",
        "\n",
        "# bagaimana dengan boolean\n",
        "biner = bool(int(input(\"Masukkan nilai boolean: \")))\n",
        "\n",
        "print(\"data = \", biner, \",type =\", type(biner))"
      ],
      "metadata": {
        "colab": {
          "base_uri": "https://localhost:8080/"
        },
        "id": "oeF1LndN3G1s",
        "outputId": "7f58df6a-a978-414c-df30-e7d7f41f900e"
      },
      "execution_count": null,
      "outputs": [
        {
          "output_type": "stream",
          "name": "stdout",
          "text": [
            "Masukkan data: haha\n",
            "data =  haha ,type = <class 'str'>\n",
            "Masukkan data: 15.2\n",
            "Masukkan data: 10\n",
            "data =  10 ,type = <class 'int'>\n",
            "Masukkan nilai boolean: 1\n",
            "data =  True ,type = <class 'bool'>\n"
          ]
        }
      ]
    },
    {
      "cell_type": "markdown",
      "source": [
        "Perhitungan sederhana: Konversi Suhu"
      ],
      "metadata": {
        "id": "ahDbrfl5BsKA"
      }
    },
    {
      "cell_type": "code",
      "source": [
        "print(\"\\nPROGRAM KONVERSI TEMPERATUR\\n\")\n",
        "\n",
        "celcius = float(input(\"Masukkan suhu dalam celcius : \"))\n",
        "print(\"suhu adalah \", celcius, \"Celcius\")"
      ],
      "metadata": {
        "id": "Hj3vn4qaD4Bf",
        "outputId": "e682f53c-1b2a-4d01-ba17-ab104257bc17",
        "colab": {
          "base_uri": "https://localhost:8080/",
          "height": 435
        }
      },
      "execution_count": null,
      "outputs": [
        {
          "output_type": "stream",
          "name": "stdout",
          "text": [
            "\n",
            "PROGRAM KONVERSI TEMPERATUR\n",
            "\n"
          ]
        },
        {
          "output_type": "error",
          "ename": "KeyboardInterrupt",
          "evalue": "ignored",
          "traceback": [
            "\u001b[0;31m---------------------------------------------------------------------------\u001b[0m",
            "\u001b[0;31mKeyboardInterrupt\u001b[0m                         Traceback (most recent call last)",
            "\u001b[0;32m<ipython-input-1-8cd84c49105e>\u001b[0m in \u001b[0;36m<cell line: 3>\u001b[0;34m()\u001b[0m\n\u001b[1;32m      1\u001b[0m \u001b[0mprint\u001b[0m\u001b[0;34m(\u001b[0m\u001b[0;34m\"\\nPROGRAM KONVERSI TEMPERATUR\\n\"\u001b[0m\u001b[0;34m)\u001b[0m\u001b[0;34m\u001b[0m\u001b[0;34m\u001b[0m\u001b[0m\n\u001b[1;32m      2\u001b[0m \u001b[0;34m\u001b[0m\u001b[0m\n\u001b[0;32m----> 3\u001b[0;31m \u001b[0mcelcius\u001b[0m \u001b[0;34m=\u001b[0m \u001b[0mfloat\u001b[0m\u001b[0;34m(\u001b[0m\u001b[0minput\u001b[0m\u001b[0;34m(\u001b[0m\u001b[0;34m\"Masukkan suhu dalam celcius : \"\u001b[0m\u001b[0;34m)\u001b[0m\u001b[0;34m)\u001b[0m\u001b[0;34m\u001b[0m\u001b[0;34m\u001b[0m\u001b[0m\n\u001b[0m\u001b[1;32m      4\u001b[0m \u001b[0mprint\u001b[0m\u001b[0;34m(\u001b[0m\u001b[0;34m\"suhu adalah \"\u001b[0m\u001b[0;34m,\u001b[0m \u001b[0mcelcius\u001b[0m\u001b[0;34m,\u001b[0m \u001b[0;34m\"Celcius\"\u001b[0m\u001b[0;34m)\u001b[0m\u001b[0;34m\u001b[0m\u001b[0;34m\u001b[0m\u001b[0m\n",
            "\u001b[0;32m/usr/local/lib/python3.10/dist-packages/ipykernel/kernelbase.py\u001b[0m in \u001b[0;36mraw_input\u001b[0;34m(self, prompt)\u001b[0m\n\u001b[1;32m    849\u001b[0m                 \u001b[0;34m\"raw_input was called, but this frontend does not support input requests.\"\u001b[0m\u001b[0;34m\u001b[0m\u001b[0;34m\u001b[0m\u001b[0m\n\u001b[1;32m    850\u001b[0m             )\n\u001b[0;32m--> 851\u001b[0;31m         return self._input_request(str(prompt),\n\u001b[0m\u001b[1;32m    852\u001b[0m             \u001b[0mself\u001b[0m\u001b[0;34m.\u001b[0m\u001b[0m_parent_ident\u001b[0m\u001b[0;34m,\u001b[0m\u001b[0;34m\u001b[0m\u001b[0;34m\u001b[0m\u001b[0m\n\u001b[1;32m    853\u001b[0m             \u001b[0mself\u001b[0m\u001b[0;34m.\u001b[0m\u001b[0m_parent_header\u001b[0m\u001b[0;34m,\u001b[0m\u001b[0;34m\u001b[0m\u001b[0;34m\u001b[0m\u001b[0m\n",
            "\u001b[0;32m/usr/local/lib/python3.10/dist-packages/ipykernel/kernelbase.py\u001b[0m in \u001b[0;36m_input_request\u001b[0;34m(self, prompt, ident, parent, password)\u001b[0m\n\u001b[1;32m    893\u001b[0m             \u001b[0;32mexcept\u001b[0m \u001b[0mKeyboardInterrupt\u001b[0m\u001b[0;34m:\u001b[0m\u001b[0;34m\u001b[0m\u001b[0;34m\u001b[0m\u001b[0m\n\u001b[1;32m    894\u001b[0m                 \u001b[0;31m# re-raise KeyboardInterrupt, to truncate traceback\u001b[0m\u001b[0;34m\u001b[0m\u001b[0;34m\u001b[0m\u001b[0m\n\u001b[0;32m--> 895\u001b[0;31m                 \u001b[0;32mraise\u001b[0m \u001b[0mKeyboardInterrupt\u001b[0m\u001b[0;34m(\u001b[0m\u001b[0;34m\"Interrupted by user\"\u001b[0m\u001b[0;34m)\u001b[0m \u001b[0;32mfrom\u001b[0m \u001b[0;32mNone\u001b[0m\u001b[0;34m\u001b[0m\u001b[0;34m\u001b[0m\u001b[0m\n\u001b[0m\u001b[1;32m    896\u001b[0m             \u001b[0;32mexcept\u001b[0m \u001b[0mException\u001b[0m \u001b[0;32mas\u001b[0m \u001b[0me\u001b[0m\u001b[0;34m:\u001b[0m\u001b[0;34m\u001b[0m\u001b[0;34m\u001b[0m\u001b[0m\n\u001b[1;32m    897\u001b[0m                 \u001b[0mself\u001b[0m\u001b[0;34m.\u001b[0m\u001b[0mlog\u001b[0m\u001b[0;34m.\u001b[0m\u001b[0mwarning\u001b[0m\u001b[0;34m(\u001b[0m\u001b[0;34m\"Invalid Message:\"\u001b[0m\u001b[0;34m,\u001b[0m \u001b[0mexc_info\u001b[0m\u001b[0;34m=\u001b[0m\u001b[0;32mTrue\u001b[0m\u001b[0;34m)\u001b[0m\u001b[0;34m\u001b[0m\u001b[0;34m\u001b[0m\u001b[0m\n",
            "\u001b[0;31mKeyboardInterrupt\u001b[0m: Interrupted by user"
          ]
        }
      ]
    },
    {
      "cell_type": "markdown",
      "source": [
        "# 27 OKTOBER 2023"
      ],
      "metadata": {
        "id": "OlPjVZID8oRH"
      }
    },
    {
      "cell_type": "markdown",
      "source": [
        "## tentang campuran"
      ],
      "metadata": {
        "id": "8imTEfH-5qCl"
      }
    },
    {
      "cell_type": "markdown",
      "source": [
        "Catatan:\n",
        "\n",
        "untuk is dan is not digunakan dalam antarsesama operasi identitas\n",
        "untuk perbandingan operasi identitas dgn integer/float digunakan \"==\""
      ],
      "metadata": {
        "id": "vkzt88eZ8XbG"
      }
    },
    {
      "cell_type": "markdown",
      "source": [
        "============================================"
      ],
      "metadata": {
        "id": "zvhSS2rDRiAN"
      }
    },
    {
      "cell_type": "markdown",
      "source": [
        "Di bawah ini latihan soal"
      ],
      "metadata": {
        "id": "Uj0uuC0ZRkOq"
      }
    },
    {
      "cell_type": "code",
      "source": [
        "print(\"GABUNGAN\")\n",
        "InputData = float(input(\"Masukkan Data : \"))\n",
        "\n",
        "Angka1 = (InputData >= 0 and InputData <= 5)\n",
        "print(Angka1)\n",
        "\n",
        "Angka2 = (InputData >= 8 and InputData <= 11)\n",
        "print(Angka2)\n",
        "\n",
        "Hasilnya = Angka1 or Angka2\n",
        "print(\"Answer :\", Hasilnya)"
      ],
      "metadata": {
        "colab": {
          "base_uri": "https://localhost:8080/"
        },
        "id": "6bdXWiDg8v8Z",
        "outputId": "6c63ccba-4e91-4953-9a44-49e488a7b6ae"
      },
      "execution_count": null,
      "outputs": [
        {
          "output_type": "stream",
          "name": "stdout",
          "text": [
            "GABUNGAN\n",
            "Masukkan Data : 4\n",
            "True\n",
            "False\n",
            "Answer : True\n"
          ]
        }
      ]
    },
    {
      "cell_type": "markdown",
      "source": [
        "Operator Bitwise"
      ],
      "metadata": {
        "id": "SLvIjlvpOk97"
      }
    },
    {
      "cell_type": "markdown",
      "source": [
        "Bitwise sebenarnya tidak jauh berbeda dengan operator lainnya. Selengkapnya lebih baik lihat videonya kelas terbuka saja hehehehe. Antara lain, operator bitwise: ^, ~, |, &, >>, <<"
      ],
      "metadata": {
        "id": "cpQz47kiOmuK"
      }
    },
    {
      "cell_type": "markdown",
      "source": [
        "## manipulasi string"
      ],
      "metadata": {
        "id": "u4w8MJyTgIq7"
      }
    },
    {
      "cell_type": "markdown",
      "source": [
        "Cara mengubah operator dalam bentuk methods\n",
        "\n",
        "mengubah case dari string, mengubah semua ke upper case"
      ],
      "metadata": {
        "id": "CjQcHLgUOxlf"
      }
    },
    {
      "cell_type": "code",
      "source": [
        "salam = \"bro!\"\n",
        "print(\"normal = \" + salam)\n",
        "salam = salam.upper()\n",
        "print(\"upper = \" + salam)"
      ],
      "metadata": {
        "colab": {
          "base_uri": "https://localhost:8080/"
        },
        "id": "AJHn7m3-f86d",
        "outputId": "a20cc033-6632-40a2-bb17-9211816be200"
      },
      "execution_count": null,
      "outputs": [
        {
          "output_type": "stream",
          "name": "stdout",
          "text": [
            "normal = bro!\n",
            "upper = BRO!\n"
          ]
        }
      ]
    },
    {
      "cell_type": "markdown",
      "source": [
        "untuk pengecekan string, ada beberapa function, antara lain:"
      ],
      "metadata": {
        "id": "k-gAZEiQ4cjY"
      }
    },
    {
      "cell_type": "code",
      "source": [
        "# islower() <- untuk pengecekan apakah semua huruf kecil\n",
        "# isupper() <- untuk pengecekan apakah semua huruf besar\n",
        "# isalpha() <- untuk mengecek apakah semuanya huruf\n",
        "# isalnum() <- huruf dan angka\n",
        "# isdecimal() <- angka saja\n",
        "# isspace() <- spasi, tab, newline \\n\n",
        "# istitle() <- semua kata dimulai dengan huruf besar"
      ],
      "metadata": {
        "id": "90_edJoS4sng"
      },
      "execution_count": null,
      "outputs": []
    },
    {
      "cell_type": "markdown",
      "source": [
        "ada juga penggunaan startswith() dan endswith()"
      ],
      "metadata": {
        "id": "RhOPl5r96lxN"
      }
    },
    {
      "cell_type": "code",
      "source": [
        "cek_start = \"Sangjangnim Oppa\".startswith(\"Sangjangnim\")\n",
        "print(\"start = \" + str(cek_start))"
      ],
      "metadata": {
        "colab": {
          "base_uri": "https://localhost:8080/"
        },
        "id": "kdC6medN6q-h",
        "outputId": "7f93ac40-81d4-4a2a-f450-e2bbe38e6e8e"
      },
      "execution_count": null,
      "outputs": [
        {
          "output_type": "stream",
          "name": "stdout",
          "text": [
            "start = True\n"
          ]
        }
      ]
    },
    {
      "cell_type": "markdown",
      "source": [
        "penggabungan komponen join() split()"
      ],
      "metadata": {
        "id": "pa_d7I028JmU"
      }
    },
    {
      "cell_type": "code",
      "source": [
        "pisah = ['aku', 'sayang', 'kamu']\n",
        "gabungan = ','.join(pisah)\n",
        "print(pisah)\n",
        "print(gabungan)"
      ],
      "metadata": {
        "colab": {
          "base_uri": "https://localhost:8080/"
        },
        "id": "1CMUOCsa8Nd-",
        "outputId": "30a9658a-eddc-4ec4-cb86-b1977cce96a8"
      },
      "execution_count": null,
      "outputs": [
        {
          "output_type": "stream",
          "name": "stdout",
          "text": [
            "['aku', 'sayang', 'kamu']\n",
            "aku,sayang,kamu\n"
          ]
        }
      ]
    },
    {
      "cell_type": "code",
      "source": [
        "gabungan = \"akuehmsayangehmkamu\"\n",
        "print(gabungan.split('ehm'))"
      ],
      "metadata": {
        "colab": {
          "base_uri": "https://localhost:8080/"
        },
        "id": "I6UT6D4_88hl",
        "outputId": "9e44c7d4-6d73-4fde-ede9-04f654d43647"
      },
      "execution_count": null,
      "outputs": [
        {
          "output_type": "stream",
          "name": "stdout",
          "text": [
            "['aku', 'sayang', 'kamu']\n"
          ]
        }
      ]
    },
    {
      "cell_type": "markdown",
      "source": [
        "alokasi karakter rjust(), ljust(), center(), strip()"
      ],
      "metadata": {
        "id": "GcW4AOtL9V0c"
      }
    },
    {
      "cell_type": "code",
      "source": [
        "kanan = \"Halo\".rjust(10)\n",
        "print(\"'\"+kanan+\"'\")"
      ],
      "metadata": {
        "colab": {
          "base_uri": "https://localhost:8080/"
        },
        "id": "bau_QzQw9nbS",
        "outputId": "b13a96c9-414c-432c-f4d6-2ab54c3d91bf"
      },
      "execution_count": null,
      "outputs": [
        {
          "output_type": "stream",
          "name": "stdout",
          "text": [
            "'      Halo'\n"
          ]
        }
      ]
    },
    {
      "cell_type": "code",
      "source": [
        "tengah = \"tengah\".center(20,\".\")\n",
        "print(\"'\"+tengah+\"'\")\n",
        "\n",
        "tengah = tengah.strip(\".\")\n",
        "print(\"'\"+tengah+\"'\")"
      ],
      "metadata": {
        "colab": {
          "base_uri": "https://localhost:8080/"
        },
        "id": "e6fEYrdF9x4j",
        "outputId": "f08beef1-e084-4e43-b42c-47d931f3077a"
      },
      "execution_count": null,
      "outputs": [
        {
          "output_type": "stream",
          "name": "stdout",
          "text": [
            "'.......tengah.......'\n",
            "'tengah'\n"
          ]
        }
      ]
    }
  ]
}